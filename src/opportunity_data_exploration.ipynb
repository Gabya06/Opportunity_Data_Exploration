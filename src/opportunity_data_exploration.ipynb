{
 "cells": [
  {
   "cell_type": "code",
   "execution_count": 2,
   "metadata": {
    "collapsed": false,
    "deletable": true,
    "editable": true
   },
   "outputs": [
    {
     "name": "stdout",
     "output_type": "stream",
     "text": [
      "\n"
     ]
    }
   ],
   "source": [
    "import os\n",
    "import pandas as pd\n",
    "import numpy as np\n",
    "import scipy as sc\n",
    "import itertools\n",
    "from operator import itemgetter\n",
    "from matplotlib import pyplot as plt\n",
    "from add_titleScore import *\n",
    "import seaborn as sns\n",
    "sns.set(style=\"whitegrid\")\n",
    "os.chdir('/Users/Gabi/Documents/projects/opps_model/')\n",
    "data_path = os.getcwd() + '/data/'\n",
    "os.chdir('./src/')\n",
    "\n",
    "cleaned_data = 'exportMatch_03072017.csv' # has created & stages (includes all stages)\n",
    "stage_data = 'stage_data_03072017.csv' #stagechanges only\n",
    "avg_dur_data = 'data_for_AVG.csv' # data that follows process & outliers removed in days in stage\n",
    "newbusfile = 'newbus.csv' #newbusiness only\n",
    "existbusfile = 'existbus.csv'#existing business only"
   ]
  },
  {
   "cell_type": "code",
   "execution_count": 3,
   "metadata": {
    "collapsed": false,
    "deletable": true,
    "editable": true
   },
   "outputs": [],
   "source": [
    "stages = ['Prospect', 'Qualified', 'Buying Process id.', 'Short List', 'Chosen Vendor', 'Negotiation/Review',\n",
    "          'PO In Progress', 'Closed Won']\n",
    "lost = ['Closed Deferred', 'Closed Lost']\n",
    "\n",
    "impt_stages = list(itertools.combinations(stages[1:], 2))\n",
    "\n",
    "stage_dict = {'Qualified' : impt_stages[0:6], 'Buying Process id.' : impt_stages[6:11], 'Short List' : impt_stages[11:15],\n",
    "              'Chosen Vendor' : impt_stages[15:18], 'Negotiation/Review' : impt_stages[18:20],\n",
    "              'PO In Progress' : impt_stages[-1]}\n",
    "# stages that follow process\n",
    "opp_stages = zip(stages[::1], stages[1::1])\n",
    "\n",
    "forward_stages = list(itertools.combinations(stages[0:], 2))\n",
    "backward_stages = list(itertools.combinations(stages[-1::-1], 2))\n",
    "\n",
    "won_stages = list(itertools.product(stages[1:-1],['Closed Won']))\n",
    "\n",
    "lostdef_stages = list(itertools.product(stages[1:], lost))\n",
    "lost_stages = [i for i in  lostdef_stages if i[1]=='Closed Lost']\n",
    "deferred_stages = [i for i in  lostdef_stages if i[1]=='Closed Deferred']"
   ]
  },
  {
   "cell_type": "code",
   "execution_count": 4,
   "metadata": {
    "collapsed": true,
    "deletable": true,
    "editable": true
   },
   "outputs": [],
   "source": [
    "industry_map = {\n",
    "\"Asset Management\":\"Financial Services\",\n",
    "\"Banking\":\"Financial Services\",\n",
    "\"Insurance\":\"Financial Services\",\n",
    "\"Financial Services: Other\":\"Financial Services\",\n",
    "\"Healthcare Payer\":\"Healthcare\",\n",
    "\"Healthcare Provider\":\"Healthcare\",\n",
    "\"Healthcare Payer and Provider\":\"Healthcare\",\n",
    "\"Technology\":\"Technology\",\n",
    "\"Government: Federal\":\"Federal\",\n",
    "\"Government\":\"Federal\",\n",
    "\"Government: State and Local\":\"Federal\",\n",
    "\"Life Sciences\":\"Life Sciences\"}"
   ]
  },
  {
   "cell_type": "code",
   "execution_count": 5,
   "metadata": {
    "collapsed": false,
    "deletable": true,
    "editable": true
   },
   "outputs": [],
   "source": [
    "dat = pd.read_csv(data_path + stage_data, index_col=0)\n",
    "dat_AVG = pd.read_csv(data_path + avg_dur_data, index_col=0)\n",
    "newbus = pd.read_csv(data_path + 'newbus.csv')\n",
    "existbus = pd.read_csv(data_path + 'existbus.csv')"
   ]
  },
  {
   "cell_type": "code",
   "execution_count": 6,
   "metadata": {
    "collapsed": false,
    "deletable": true,
    "editable": true
   },
   "outputs": [
    {
     "name": "stdout",
     "output_type": "stream",
     "text": [
      "all data size (3622, 36)\n",
      "size of data used for averages where outliers have been removed (857, 36)\n",
      "# opps for avgs 585\n"
     ]
    }
   ],
   "source": [
    "# dat - only includes stage changes\n",
    "print \"all data size\", dat.shape\n",
    "print \"size of data used for averages where outliers have been removed\" ,dat_AVG.shape\n",
    "print \"# opps for avgs\", dat_AVG.OpportunityID.nunique()"
   ]
  },
  {
   "cell_type": "code",
   "execution_count": 7,
   "metadata": {
    "collapsed": true,
    "deletable": true,
    "editable": true
   },
   "outputs": [],
   "source": [
    "dat.qt = pd.PeriodIndex(dat.qt, freq ='Q-SEP')\n",
    "dat['OldNewStage'] = zip(dat.OldValue, dat.NewValue) #this comes over as a str instead of tuple"
   ]
  },
  {
   "cell_type": "code",
   "execution_count": 8,
   "metadata": {
    "collapsed": false,
    "deletable": true,
    "editable": true
   },
   "outputs": [
    {
     "data": {
      "text/plain": [
       "(3622, 36)"
      ]
     },
     "execution_count": 8,
     "metadata": {},
     "output_type": "execute_result"
    }
   ],
   "source": [
    "# number of rows in data\n",
    "dat.shape"
   ]
  },
  {
   "cell_type": "code",
   "execution_count": 9,
   "metadata": {
    "collapsed": false,
    "deletable": true,
    "editable": true
   },
   "outputs": [
    {
     "name": "stdout",
     "output_type": "stream",
     "text": [
      "(3622, 36)\n"
     ]
    },
    {
     "data": {
      "text/plain": [
       "(3110, 36)"
      ]
     },
     "execution_count": 9,
     "metadata": {},
     "output_type": "execute_result"
    }
   ],
   "source": [
    "# 1925 if remove prospect & only stagename\n",
    "print dat.shape\n",
    "\n",
    "# 1472 if remove prospect & only stagename - new bus\n",
    "dat[dat.Type == 'New Business'].shape"
   ]
  },
  {
   "cell_type": "code",
   "execution_count": 10,
   "metadata": {
    "collapsed": true,
    "deletable": true,
    "editable": true
   },
   "outputs": [],
   "source": [
    "dat = dat[(dat.OldValue != 'Prospecting')]\n",
    "dat = dat[(dat.OldValue != 'Re-Qualify')]\n",
    "dat = dat[(dat.NewValue != 'Re-Qualify')]\n",
    "dat = dat[(dat.NewValue != 'Prospect')]\n",
    "dat = dat[(dat.OldValue != 'Prospect')]"
   ]
  },
  {
   "cell_type": "code",
   "execution_count": 11,
   "metadata": {
    "collapsed": false,
    "deletable": true,
    "editable": true
   },
   "outputs": [
    {
     "name": "stdout",
     "output_type": "stream",
     "text": [
      "number of opps in data 972\n",
      "number of opps in data that follow process 402\n"
     ]
    }
   ],
   "source": [
    "#total number of opportunities in dataset\n",
    "print \"number of opps in data\", dat.OpportunityID.nunique()\n",
    "print \"number of opps in data that follow process\", dat[dat.OldNewStage.isin(opp_stages)].OpportunityID.nunique()"
   ]
  },
  {
   "cell_type": "code",
   "execution_count": 12,
   "metadata": {
    "collapsed": false,
    "deletable": true,
    "editable": true
   },
   "outputs": [
    {
     "name": "stdout",
     "output_type": "stream",
     "text": [
      "qt\n",
      "2016Q1    182\n",
      "2016Q2    224\n",
      "2016Q3    348\n",
      "2016Q4    329\n",
      "2017Q1    265\n",
      "Freq: Q-SEP, Name: OpportunityID, dtype: int64\n"
     ]
    }
   ],
   "source": [
    "# number of opportunities by Fiscal Quarter\n",
    "print dat.groupby('qt').OpportunityID.nunique()"
   ]
  },
  {
   "cell_type": "code",
   "execution_count": 13,
   "metadata": {
    "collapsed": true
   },
   "outputs": [],
   "source": [
    "dat.to_csv(data_path + 'stage_dat_04032017.csv')"
   ]
  },
  {
   "cell_type": "markdown",
   "metadata": {
    "deletable": true,
    "editable": true
   },
   "source": [
    "## New Business vs. Old Business"
   ]
  },
  {
   "cell_type": "markdown",
   "metadata": {
    "deletable": true,
    "editable": true
   },
   "source": [
    "* Average Stage duration and sales cyles\n",
    "* New ARR\n",
    "* Conversion Rates"
   ]
  },
  {
   "cell_type": "code",
   "execution_count": 14,
   "metadata": {
    "collapsed": false,
    "deletable": true,
    "editable": true
   },
   "outputs": [
    {
     "name": "stdout",
     "output_type": "stream",
     "text": [
      "new bus opps: 779\n",
      "exist bus opps: 193\n"
     ]
    },
    {
     "name": "stderr",
     "output_type": "stream",
     "text": [
      "/Users/Gabi/.virtualenvs/opps_analysis/lib/python2.7/site-packages/pandas/core/generic.py:2773: SettingWithCopyWarning: \n",
      "A value is trying to be set on a copy of a slice from a DataFrame.\n",
      "Try using .loc[row_indexer,col_indexer] = value instead\n",
      "\n",
      "See the caveats in the documentation: http://pandas.pydata.org/pandas-docs/stable/indexing.html#indexing-view-versus-copy\n",
      "  self[name] = value\n"
     ]
    }
   ],
   "source": [
    "newbus = dat[dat.Type =='New Business']\n",
    "existbus = dat[dat.Type =='Existing Business']\n",
    "newbus.OldNewStage = zip(newbus.OldValue, newbus.NewValue)\n",
    "existbus.OldNewStage = zip(existbus.OldValue, existbus.NewValue)\n",
    "\n",
    "print \"new bus opps:\", newbus.OpportunityID.nunique()\n",
    "print \"exist bus opps:\", existbus.OpportunityID.nunique()"
   ]
  },
  {
   "cell_type": "code",
   "execution_count": 15,
   "metadata": {
    "collapsed": false,
    "deletable": true,
    "editable": true
   },
   "outputs": [
    {
     "name": "stderr",
     "output_type": "stream",
     "text": [
      "/Users/Gabi/.virtualenvs/opps_analysis/lib/python2.7/site-packages/pandas/tools/plotting.py:983: UserWarning: 'colors' is being deprecated. Please use 'color'instead of 'colors'\n",
      "  warnings.warn((\"'colors' is being deprecated. Please use 'color'\"\n"
     ]
    },
    {
     "data": {
      "image/png": "[encoded data removed]",
      "text/plain": [
       "<matplotlib.figure.Figure at 0x109bfeb90>"
      ]
     },
     "metadata": {},
     "output_type": "display_data"
    }
   ],
   "source": [
    "type_qt_grp = dat.groupby(['qt','Type']).OpportunityID.nunique()\n",
    "# group for count \n",
    "\n",
    "# number of closed deferred by qt\n",
    "type_plt = type_qt_grp.unstack().plot(kind = 'bar',stacked = True, colors =sns.color_palette(\"BuGn\", 4)[0:4:2] ,title = 'Number of Opportunities by Type', figsize=(8,6))\n",
    "type_plt.set_ylabel('# of Opportunities')\n",
    "type_plt.set_xlabel('')\n",
    "xticks = [item.get_text() for item in type_plt.get_xticklabels()]\n",
    "type_plt.set_xticklabels(labels= xticks, rotation = 0)\n",
    "type_plt.legend(loc =0)\n",
    "plt.show()"
   ]
  },
  {
   "cell_type": "code",
   "execution_count": 16,
   "metadata": {
    "collapsed": false,
    "deletable": true,
    "editable": true
   },
   "outputs": [
    {
     "data": {
      "text/html": [
       "<div>\n",
       "<table border=\"1\" class=\"dataframe\">\n",
       "  <thead>\n",
       "    <tr style=\"text-align: right;\">\n",
       "      <th></th>\n",
       "      <th></th>\n",
       "      <th>percent_type</th>\n",
       "    </tr>\n",
       "    <tr>\n",
       "      <th>qt</th>\n",
       "      <th>Type</th>\n",
       "      <th></th>\n",
       "    </tr>\n",
       "  </thead>\n",
       "  <tbody>\n",
       "    <tr>\n",
       "      <th rowspan=\"2\" valign=\"top\">2016Q1</th>\n",
       "      <th>Existing Business</th>\n",
       "      <td>0.214286</td>\n",
       "    </tr>\n",
       "    <tr>\n",
       "      <th>New Business</th>\n",
       "      <td>0.785714</td>\n",
       "    </tr>\n",
       "    <tr>\n",
       "      <th rowspan=\"2\" valign=\"top\">2016Q2</th>\n",
       "      <th>Existing Business</th>\n",
       "      <td>0.209821</td>\n",
       "    </tr>\n",
       "    <tr>\n",
       "      <th>New Business</th>\n",
       "      <td>0.790179</td>\n",
       "    </tr>\n",
       "    <tr>\n",
       "      <th rowspan=\"2\" valign=\"top\">2016Q3</th>\n",
       "      <th>Existing Business</th>\n",
       "      <td>0.183908</td>\n",
       "    </tr>\n",
       "    <tr>\n",
       "      <th>New Business</th>\n",
       "      <td>0.816092</td>\n",
       "    </tr>\n",
       "    <tr>\n",
       "      <th rowspan=\"2\" valign=\"top\">2016Q4</th>\n",
       "      <th>Existing Business</th>\n",
       "      <td>0.194529</td>\n",
       "    </tr>\n",
       "    <tr>\n",
       "      <th>New Business</th>\n",
       "      <td>0.805471</td>\n",
       "    </tr>\n",
       "    <tr>\n",
       "      <th rowspan=\"2\" valign=\"top\">2017Q1</th>\n",
       "      <th>Existing Business</th>\n",
       "      <td>0.249057</td>\n",
       "    </tr>\n",
       "    <tr>\n",
       "      <th>New Business</th>\n",
       "      <td>0.750943</td>\n",
       "    </tr>\n",
       "  </tbody>\n",
       "</table>\n",
       "</div>"
      ],
      "text/plain": [
       "                          percent_type\n",
       "qt     Type                           \n",
       "2016Q1 Existing Business      0.214286\n",
       "       New Business           0.785714\n",
       "2016Q2 Existing Business      0.209821\n",
       "       New Business           0.790179\n",
       "2016Q3 Existing Business      0.183908\n",
       "       New Business           0.816092\n",
       "2016Q4 Existing Business      0.194529\n",
       "       New Business           0.805471\n",
       "2017Q1 Existing Business      0.249057\n",
       "       New Business           0.750943"
      ]
     },
     "execution_count": 16,
     "metadata": {},
     "output_type": "execute_result"
    }
   ],
   "source": [
    "type_g = dat.groupby('Type')\n",
    "g_type = dat.groupby(['qt']).OpportunityID.nunique()\n",
    "res = pd.DataFrame(type_qt_grp.div(g_type, level='qt'))\n",
    "res.columns = ['percent_type']\n",
    "res"
   ]
  },
  {
   "cell_type": "code",
   "execution_count": 17,
   "metadata": {
    "collapsed": false,
    "deletable": true,
    "editable": true
   },
   "outputs": [
    {
     "data": {
      "image/png": "[encoded data removed]",
      "text/plain": [
       "<matplotlib.figure.Figure at 0x1050d9050>"
      ]
     },
     "metadata": {},
     "output_type": "display_data"
    }
   ],
   "source": [
    "type_plt = type_qt_grp.div(g_type, level='qt').unstack().plot(kind = 'bar',\n",
    "                                                              colors =sns.color_palette(\"BuGn\", 4)[0:4:2] ,\n",
    "                                                              title = '% of quarterly Opportunities by Type', figsize=(8,6))\n",
    "type_plt.set_ylabel('')\n",
    "type_plt.set_xlabel('')\n",
    "xticks = [item.get_text() for item in type_plt.get_xticklabels()]\n",
    "type_plt.set_xticklabels(labels= xticks, rotation = 0)\n",
    "type_plt.legend(loc ='best')\n",
    "plt.show()\n",
    "plt.show()"
   ]
  },
  {
   "cell_type": "code",
   "execution_count": 19,
   "metadata": {
    "collapsed": false,
    "deletable": true,
    "editable": true
   },
   "outputs": [
    {
     "name": "stdout",
     "output_type": "stream",
     "text": [
      "# of New Business Opps:  779\n",
      "# of Existing Business Opps:  193\n"
     ]
    }
   ],
   "source": [
    "# how many data points are there?\n",
    "print \"# of New Business Opps: \" , newbus.OpportunityID.drop_duplicates().shape[0]\n",
    "print \"# of Existing Business Opps: \" , existbus.OpportunityID.drop_duplicates().shape[0]"
   ]
  },
  {
   "cell_type": "code",
   "execution_count": 20,
   "metadata": {
    "collapsed": false,
    "deletable": true,
    "editable": true
   },
   "outputs": [
    {
     "name": "stdout",
     "output_type": "stream",
     "text": [
      "69\n",
      "92\n"
     ]
    }
   ],
   "source": [
    "# who won more opps?\n",
    "print newbus[newbus.OldNewStage.isin(won_stages)].OpportunityID.nunique()\n",
    "print existbus[existbus.OldNewStage.isin(won_stages)].OpportunityID.nunique()"
   ]
  },
  {
   "cell_type": "code",
   "execution_count": 21,
   "metadata": {
    "collapsed": false,
    "deletable": true,
    "editable": true
   },
   "outputs": [
    {
     "name": "stdout",
     "output_type": "stream",
     "text": [
      "New business Won: 69\n",
      "New business Closed Deferred: 479\n",
      "\n",
      "Existing business Won: 92\n",
      "Existing business Closed Deferred: 66\n"
     ]
    }
   ],
   "source": [
    "# Won & Closed Deferred - New business vs Existing Business\n",
    "print \"New business Won:\" , newbus[newbus.OldNewStage.isin(won_stages)].OpportunityID.nunique()\n",
    "print \"New business Closed Deferred:\" , newbus[newbus.OldNewStage.isin(deferred_stages)].OpportunityID.nunique()\n",
    "print \n",
    "\n",
    "print \"Existing business Won:\" , existbus[existbus.OldNewStage.isin(won_stages)].OpportunityID.nunique()\n",
    "print \"Existing business Closed Deferred:\" , existbus[existbus.OldNewStage.isin(deferred_stages)].OpportunityID.nunique()\n"
   ]
  },
  {
   "cell_type": "code",
   "execution_count": 22,
   "metadata": {
    "collapsed": false,
    "deletable": true,
    "editable": true
   },
   "outputs": [
    {
     "name": "stderr",
     "output_type": "stream",
     "text": [
      "/Users/Gabi/.virtualenvs/opps_analysis/lib/python2.7/site-packages/ipykernel/__main__.py:3: SettingWithCopyWarning: \n",
      "A value is trying to be set on a copy of a slice from a DataFrame.\n",
      "Try using .loc[row_indexer,col_indexer] = value instead\n",
      "\n",
      "See the caveats in the documentation: http://pandas.pydata.org/pandas-docs/stable/indexing.html#indexing-view-versus-copy\n",
      "  app.launch_new_instance()\n",
      "/Users/Gabi/.virtualenvs/opps_analysis/lib/python2.7/site-packages/ipykernel/__main__.py:4: SettingWithCopyWarning: \n",
      "A value is trying to be set on a copy of a slice from a DataFrame.\n",
      "Try using .loc[row_indexer,col_indexer] = value instead\n",
      "\n",
      "See the caveats in the documentation: http://pandas.pydata.org/pandas-docs/stable/indexing.html#indexing-view-versus-copy\n"
     ]
    }
   ],
   "source": [
    "newbus_avg = dat_AVG[dat_AVG.Type == 'New Business']\n",
    "exbus_avg = dat_AVG[dat_AVG.Type == 'Existing Business']\n",
    "newbus_avg['OldNewStage'] = zip(newbus_avg.OldValue, newbus_avg.NewValue) #this comes over as a str instead of tuple\n",
    "exbus_avg['OldNewStage'] = zip(exbus_avg.OldValue, exbus_avg.NewValue) #this comes over as a str instead of tuple"
   ]
  },
  {
   "cell_type": "code",
   "execution_count": 23,
   "metadata": {
    "collapsed": false,
    "deletable": true,
    "editable": true
   },
   "outputs": [
    {
     "name": "stdout",
     "output_type": "stream",
     "text": [
      "OldNewStage\n",
      "(Buying Process id., Short List)        33.720930\n",
      "(Chosen Vendor, Negotiation/Review)     32.717391\n",
      "(Negotiation/Review, PO In Progress)    40.000000\n",
      "(PO In Progress, Closed Won)            15.000000\n",
      "(Prospect, Qualified)                   25.565350\n",
      "(Qualified, Buying Process id.)         41.375000\n",
      "(Short List, Chosen Vendor)             41.750000\n",
      "Name: days_in_stage, dtype: float64\n",
      "OldNewStage\n",
      "(Buying Process id., Short List)        37.000000\n",
      "(Chosen Vendor, Negotiation/Review)     20.133333\n",
      "(Negotiation/Review, PO In Progress)    28.333333\n",
      "(PO In Progress, Closed Won)            18.792453\n",
      "(Prospect, Qualified)                   46.333333\n",
      "(Qualified, Buying Process id.)         32.500000\n",
      "(Short List, Chosen Vendor)             35.666667\n",
      "Name: days_in_stage, dtype: float64\n"
     ]
    }
   ],
   "source": [
    "print newbus_avg[newbus_avg.OldNewStage.isin(opp_stages)].groupby('OldNewStage').days_in_stage.mean()\n",
    "print exbus_avg[exbus_avg.OldNewStage.isin(opp_stages)].groupby('OldNewStage').days_in_stage.mean()"
   ]
  },
  {
   "cell_type": "code",
   "execution_count": 25,
   "metadata": {
    "collapsed": false,
    "deletable": true,
    "editable": true
   },
   "outputs": [
    {
     "name": "stdout",
     "output_type": "stream",
     "text": [
      "New bus avg\n",
      "qt      OldNewStage                         \n",
      "2016Q1  (Buying Process id., Short List)        26.714286\n",
      "        (Chosen Vendor, Negotiation/Review)     16.200000\n",
      "        (Negotiation/Review, PO In Progress)    24.000000\n",
      "        (PO In Progress, Closed Won)             9.125000\n",
      "        (Prospect, Qualified)                   12.000000\n",
      "Name: days_in_stage, dtype: float64\n",
      "Exist bus avg\n",
      "qt      OldNewStage                         \n",
      "2016Q1  (Negotiation/Review, PO In Progress)     6.666667\n",
      "        (PO In Progress, Closed Won)             6.857143\n",
      "        (Qualified, Buying Process id.)         23.000000\n",
      "        (Short List, Chosen Vendor)             23.000000\n",
      "2016Q2  (Buying Process id., Short List)        24.666667\n",
      "Name: days_in_stage, dtype: float64\n"
     ]
    }
   ],
   "source": [
    "print \"New bus avg\"\n",
    "print newbus_avg[newbus_avg.OldNewStage.isin(opp_stages)].groupby(['qt','OldNewStage']).days_in_stage.mean()[0:5]\n",
    "print \"Exist bus avg\"\n",
    "print exbus_avg[exbus_avg.OldNewStage.isin(opp_stages)].groupby(['qt','OldNewStage']).days_in_stage.mean()[0:5]"
   ]
  },
  {
   "cell_type": "code",
   "execution_count": 26,
   "metadata": {
    "collapsed": false,
    "deletable": true,
    "editable": true
   },
   "outputs": [
    {
     "data": {
      "text/plain": [
       "585"
      ]
     },
     "execution_count": 26,
     "metadata": {},
     "output_type": "execute_result"
    }
   ],
   "source": [
    "# cleaned up data - follow process + no outliers\n",
    "dat_AVG.OpportunityID.nunique()"
   ]
  },
  {
   "cell_type": "code",
   "execution_count": 27,
   "metadata": {
    "collapsed": false,
    "deletable": true,
    "editable": true
   },
   "outputs": [
    {
     "data": {
      "text/plain": [
       "qt\n",
       "2016Q1     83\n",
       "2016Q2    214\n",
       "2016Q3    139\n",
       "2016Q4    147\n",
       "2017Q1     95\n",
       "Name: OpportunityID, dtype: int64"
      ]
     },
     "execution_count": 27,
     "metadata": {},
     "output_type": "execute_result"
    }
   ],
   "source": [
    "# cleaned up data - follow process + no outliers -- quarterly\n",
    "dat_AVG.groupby('qt').OpportunityID.nunique()"
   ]
  },
  {
   "cell_type": "code",
   "execution_count": 28,
   "metadata": {
    "collapsed": false,
    "deletable": true,
    "editable": true
   },
   "outputs": [
    {
     "data": {
      "text/plain": [
       "Type               OldNewStage                             \n",
       "Existing Business  ('Buying Process id.', 'Short List')        37.000000\n",
       "                   ('Chosen Vendor', 'Negotiation/Review')     20.133333\n",
       "                   ('Negotiation/Review', 'PO In Progress')    28.333333\n",
       "                   ('PO In Progress', 'Closed Won')            18.792453\n",
       "                   ('Prospect', 'Qualified')                   46.333333\n",
       "                   ('Qualified', 'Buying Process id.')         32.500000\n",
       "                   ('Short List', 'Chosen Vendor')             35.666667\n",
       "New Business       ('Buying Process id.', 'Short List')        33.720930\n",
       "                   ('Chosen Vendor', 'Negotiation/Review')     32.717391\n",
       "                   ('Negotiation/Review', 'PO In Progress')    40.000000\n",
       "                   ('PO In Progress', 'Closed Won')            15.000000\n",
       "                   ('Prospect', 'Qualified')                   25.565350\n",
       "                   ('Qualified', 'Buying Process id.')         41.375000\n",
       "                   ('Short List', 'Chosen Vendor')             41.750000\n",
       "Name: days_in_stage, dtype: float64"
      ]
     },
     "execution_count": 28,
     "metadata": {},
     "output_type": "execute_result"
    }
   ],
   "source": [
    "dat_AVG.groupby(['Type','OldNewStage']).days_in_stage.mean()"
   ]
  },
  {
   "cell_type": "code",
   "execution_count": 29,
   "metadata": {
    "collapsed": false,
    "deletable": true,
    "editable": true
   },
   "outputs": [
    {
     "data": {
      "image/png": "[encoded data removed]",
      "text/plain": [
       "<matplotlib.figure.Figure at 0x1051c6e10>"
      ]
     },
     "metadata": {},
     "output_type": "display_data"
    },
    {
     "data": {
      "image/png": "[encoded data removed]",
      "text/plain": [
       "<matplotlib.figure.Figure at 0x10992ac50>"
      ]
     },
     "metadata": {},
     "output_type": "display_data"
    }
   ],
   "source": [
    "# clean up data w no outliers\n",
    "nb_q = newbus[(newbus.days_in_stage ==0) & (newbus.OldValue =='Qualified') & (newbus.NewValue =='Closed Deferred')].groupby(['qt','OldNewStage']).OpportunityID.count()\n",
    "nb_plt = nb_q.unstack().plot(kind = 'bar', stacked = True, colors =sns.color_palette(\"BuGn\", 11)[3::1], title = 'New Business Qualified to Closed Deferred')\n",
    "nb_plt.set_ylabel('# of Opportunities')\n",
    "nb_plt.set_xlabel('')\n",
    "xticks = [item.get_text() for item in nb_plt.get_xticklabels()]\n",
    "nb_plt.set_xticklabels(labels= xticks, rotation = 0)\n",
    "nb_plt.legend(loc =0)\n",
    "plt.show()\n",
    "\n",
    "\n",
    "eb_q = existbus[(existbus.days_in_stage ==0) & (existbus.OldValue =='Qualified') & (existbus.NewValue =='Closed Deferred')].groupby(['qt','OldNewStage']).OpportunityID.count()\n",
    "eb_q.unstack().plot(kind = 'bar', stacked = True)\n",
    "plt.show()\n"
   ]
  },
  {
   "cell_type": "code",
   "execution_count": 31,
   "metadata": {
    "collapsed": false,
    "deletable": true,
    "editable": true
   },
   "outputs": [
    {
     "data": {
      "text/html": [
       "<div>\n",
       "<table border=\"1\" class=\"dataframe\">\n",
       "  <thead>\n",
       "    <tr style=\"text-align: right;\">\n",
       "      <th></th>\n",
       "      <th>OldNewStage</th>\n",
       "      <th>days_in_stage</th>\n",
       "    </tr>\n",
       "  </thead>\n",
       "  <tbody>\n",
       "    <tr>\n",
       "      <th>0</th>\n",
       "      <td>(Buying Process id., Chosen Vendor)</td>\n",
       "      <td>40.950000</td>\n",
       "    </tr>\n",
       "    <tr>\n",
       "      <th>1</th>\n",
       "      <td>(Buying Process id., Closed Deferred)</td>\n",
       "      <td>58.057971</td>\n",
       "    </tr>\n",
       "    <tr>\n",
       "      <th>2</th>\n",
       "      <td>(Buying Process id., Closed Lost)</td>\n",
       "      <td>30.625000</td>\n",
       "    </tr>\n",
       "    <tr>\n",
       "      <th>3</th>\n",
       "      <td>(Buying Process id., Negotiation/Review)</td>\n",
       "      <td>41.333333</td>\n",
       "    </tr>\n",
       "    <tr>\n",
       "      <th>4</th>\n",
       "      <td>(Buying Process id., Qualified)</td>\n",
       "      <td>32.294643</td>\n",
       "    </tr>\n",
       "  </tbody>\n",
       "</table>\n",
       "</div>"
      ],
      "text/plain": [
       "                                OldNewStage  days_in_stage\n",
       "0       (Buying Process id., Chosen Vendor)      40.950000\n",
       "1     (Buying Process id., Closed Deferred)      58.057971\n",
       "2         (Buying Process id., Closed Lost)      30.625000\n",
       "3  (Buying Process id., Negotiation/Review)      41.333333\n",
       "4           (Buying Process id., Qualified)      32.294643"
      ]
     },
     "execution_count": 31,
     "metadata": {},
     "output_type": "execute_result"
    }
   ],
   "source": [
    "newbus_stage_dur = newbus.groupby('OldNewStage').days_in_stage.mean()\n",
    "newbus_stage_dur = newbus_stage_dur.where(lambda x: x>0).dropna()\n",
    "newbus_stage_dur = newbus_stage_dur.reset_index()\n",
    "newbus_stage_dur.head()"
   ]
  },
  {
   "cell_type": "code",
   "execution_count": 32,
   "metadata": {
    "collapsed": false,
    "deletable": true,
    "editable": true
   },
   "outputs": [
    {
     "name": "stdout",
     "output_type": "stream",
     "text": [
      "New business Avg stage durations:\n",
      "                             OldNewStage  days_in_stage\n",
      "5       (Buying Process id., Short List)      29.828829\n",
      "9    (Chosen Vendor, Negotiation/Review)      31.767857\n",
      "26  (Negotiation/Review, PO In Progress)      32.413793\n",
      "29          (PO In Progress, Closed Won)      13.911765\n",
      "32       (Qualified, Buying Process id.)      39.389423\n",
      "39           (Short List, Chosen Vendor)      47.000000\n"
     ]
    }
   ],
   "source": [
    "# New Business average stage duration in sales cycle\n",
    "print \"New business Avg stage durations:\"\n",
    "print newbus_stage_dur[newbus_stage_dur.OldNewStage.isin(opp_stages)]"
   ]
  },
  {
   "cell_type": "code",
   "execution_count": 33,
   "metadata": {
    "collapsed": false,
    "deletable": true,
    "editable": true
   },
   "outputs": [
    {
     "data": {
      "text/html": [
       "<div>\n",
       "<table border=\"1\" class=\"dataframe\">\n",
       "  <thead>\n",
       "    <tr style=\"text-align: right;\">\n",
       "      <th></th>\n",
       "      <th>OldNewStage</th>\n",
       "      <th>Total_Opps</th>\n",
       "    </tr>\n",
       "  </thead>\n",
       "  <tbody>\n",
       "    <tr>\n",
       "      <th>6</th>\n",
       "      <td>(Buying Process id., Short List)</td>\n",
       "      <td>105</td>\n",
       "    </tr>\n",
       "    <tr>\n",
       "      <th>10</th>\n",
       "      <td>(Chosen Vendor, Negotiation/Review)</td>\n",
       "      <td>50</td>\n",
       "    </tr>\n",
       "    <tr>\n",
       "      <th>31</th>\n",
       "      <td>(Negotiation/Review, PO In Progress)</td>\n",
       "      <td>28</td>\n",
       "    </tr>\n",
       "    <tr>\n",
       "      <th>34</th>\n",
       "      <td>(PO In Progress, Closed Won)</td>\n",
       "      <td>33</td>\n",
       "    </tr>\n",
       "    <tr>\n",
       "      <th>37</th>\n",
       "      <td>(Qualified, Buying Process id.)</td>\n",
       "      <td>197</td>\n",
       "    </tr>\n",
       "    <tr>\n",
       "      <th>45</th>\n",
       "      <td>(Short List, Chosen Vendor)</td>\n",
       "      <td>64</td>\n",
       "    </tr>\n",
       "  </tbody>\n",
       "</table>\n",
       "</div>"
      ],
      "text/plain": [
       "                             OldNewStage  Total_Opps\n",
       "6       (Buying Process id., Short List)         105\n",
       "10   (Chosen Vendor, Negotiation/Review)          50\n",
       "31  (Negotiation/Review, PO In Progress)          28\n",
       "34          (PO In Progress, Closed Won)          33\n",
       "37       (Qualified, Buying Process id.)         197\n",
       "45           (Short List, Chosen Vendor)          64"
      ]
     },
     "execution_count": 33,
     "metadata": {},
     "output_type": "execute_result"
    }
   ],
   "source": [
    "newbus_num_opps = newbus.groupby('OldNewStage').OpportunityID.nunique()\n",
    "newbus_num_opps = newbus_num_opps.where(lambda x: x>0)\n",
    "newbus_num_opps = newbus_num_opps.reset_index()\n",
    "newbus_num_opps.columns = ['OldNewStage','Total_Opps']\n",
    "# those that dont follow process\n",
    "newbus_num_opps_2 = newbus_num_opps[~newbus_num_opps.OldNewStage.isin(opp_stages)]\n",
    "# those that follow process\n",
    "newbus_num_opps = newbus_num_opps[newbus_num_opps.OldNewStage.isin(opp_stages)]\n",
    "newbus_num_opps"
   ]
  },
  {
   "cell_type": "code",
   "execution_count": 34,
   "metadata": {
    "collapsed": false,
    "deletable": true,
    "editable": true
   },
   "outputs": [
    {
     "name": "stdout",
     "output_type": "stream",
     "text": [
      "Existing business Avg stage durations:\n",
      "                             OldNewStage  days_in_stage\n",
      "6       (Buying Process id., Short List)      31.625000\n",
      "11   (Chosen Vendor, Negotiation/Review)      43.250000\n",
      "24  (Negotiation/Review, PO In Progress)      17.000000\n",
      "29          (PO In Progress, Closed Won)      13.847222\n",
      "31       (Qualified, Buying Process id.)      29.142857\n",
      "39           (Short List, Chosen Vendor)      30.607143\n"
     ]
    }
   ],
   "source": [
    "# Existing Business\n",
    "existbus_stage_dur = existbus.groupby('OldNewStage').days_in_stage.mean()\n",
    "existbus_stage_dur= existbus_stage_dur.where(lambda x: x>0).dropna()\n",
    "existbus_stage_dur = existbus_stage_dur.reset_index()\n",
    "\n",
    "print \"Existing business Avg stage durations:\"\n",
    "print existbus_stage_dur[existbus_stage_dur.OldNewStage.isin(opp_stages)]"
   ]
  },
  {
   "cell_type": "code",
   "execution_count": 35,
   "metadata": {
    "collapsed": false,
    "deletable": true,
    "editable": true
   },
   "outputs": [
    {
     "data": {
      "text/html": [
       "<div>\n",
       "<table border=\"1\" class=\"dataframe\">\n",
       "  <thead>\n",
       "    <tr style=\"text-align: right;\">\n",
       "      <th></th>\n",
       "      <th>OldNewStage</th>\n",
       "      <th>Total_Opps</th>\n",
       "    </tr>\n",
       "  </thead>\n",
       "  <tbody>\n",
       "    <tr>\n",
       "      <th>7</th>\n",
       "      <td>(Buying Process id., Short List)</td>\n",
       "      <td>15</td>\n",
       "    </tr>\n",
       "    <tr>\n",
       "      <th>12</th>\n",
       "      <td>(Chosen Vendor, Negotiation/Review)</td>\n",
       "      <td>18</td>\n",
       "    </tr>\n",
       "    <tr>\n",
       "      <th>26</th>\n",
       "      <td>(Negotiation/Review, PO In Progress)</td>\n",
       "      <td>30</td>\n",
       "    </tr>\n",
       "    <tr>\n",
       "      <th>31</th>\n",
       "      <td>(PO In Progress, Closed Won)</td>\n",
       "      <td>70</td>\n",
       "    </tr>\n",
       "    <tr>\n",
       "      <th>33</th>\n",
       "      <td>(Qualified, Buying Process id.)</td>\n",
       "      <td>28</td>\n",
       "    </tr>\n",
       "    <tr>\n",
       "      <th>42</th>\n",
       "      <td>(Short List, Chosen Vendor)</td>\n",
       "      <td>24</td>\n",
       "    </tr>\n",
       "  </tbody>\n",
       "</table>\n",
       "</div>"
      ],
      "text/plain": [
       "                             OldNewStage  Total_Opps\n",
       "7       (Buying Process id., Short List)          15\n",
       "12   (Chosen Vendor, Negotiation/Review)          18\n",
       "26  (Negotiation/Review, PO In Progress)          30\n",
       "31          (PO In Progress, Closed Won)          70\n",
       "33       (Qualified, Buying Process id.)          28\n",
       "42           (Short List, Chosen Vendor)          24"
      ]
     },
     "execution_count": 35,
     "metadata": {},
     "output_type": "execute_result"
    }
   ],
   "source": [
    "existbus_num_opps = existbus.groupby('OldNewStage').OpportunityID.nunique()\n",
    "existbus_num_opps = existbus_num_opps.where(lambda x: x>0)\n",
    "existbus_num_opps = existbus_num_opps.reset_index()\n",
    "existbus_num_opps.columns = ['OldNewStage','Total_Opps']\n",
    "\n",
    "# those that dont follow process\n",
    "existbus_num_opps_2 = existbus_num_opps[~existbus_num_opps.OldNewStage.isin(opp_stages)]\n",
    "\n",
    "# those that follow process\n",
    "existbus_num_opps = existbus_num_opps[existbus_num_opps.OldNewStage.isin(opp_stages)]\n",
    "existbus_num_opps"
   ]
  },
  {
   "cell_type": "code",
   "execution_count": 36,
   "metadata": {
    "collapsed": false,
    "deletable": true,
    "editable": true
   },
   "outputs": [
    {
     "name": "stdout",
     "output_type": "stream",
     "text": [
      "                             OldNewStage  days_in_stage\n",
      "9    (Chosen Vendor, Negotiation/Review)      31.767857\n",
      "26  (Negotiation/Review, PO In Progress)      32.413793\n",
      "39           (Short List, Chosen Vendor)      47.000000\n",
      "\n",
      "                             OldNewStage  days_in_stage\n",
      "11   (Chosen Vendor, Negotiation/Review)      43.250000\n",
      "24  (Negotiation/Review, PO In Progress)      17.000000\n",
      "39           (Short List, Chosen Vendor)      30.607143\n"
     ]
    }
   ],
   "source": [
    "print newbus_stage_dur[newbus_stage_dur.OldNewStage.isin(opp_stages[3:-1])]\n",
    "print\n",
    "print existbus_stage_dur[existbus_stage_dur.OldNewStage.isin(opp_stages[3:-1])]"
   ]
  },
  {
   "cell_type": "code",
   "execution_count": 37,
   "metadata": {
    "collapsed": false,
    "deletable": true,
    "editable": true
   },
   "outputs": [
    {
     "data": {
      "text/plain": [
       "qt      OldNewStage                          \n",
       "2016Q1  (Buying Process id., Closed Deferred)    13\n",
       "        (Chosen Vendor, Closed Deferred)          2\n",
       "        (Negotiation/Review, Closed Deferred)     2\n",
       "        (Qualified, Closed Deferred)             25\n",
       "        (Short List, Closed Deferred)             4\n",
       "Name: OpportunityID, dtype: int64"
      ]
     },
     "execution_count": 37,
     "metadata": {},
     "output_type": "execute_result"
    }
   ],
   "source": [
    "# look at lost/deferred by qt\n",
    "def_dat = dat[dat.OldNewStage.isin(deferred_stages)]\n",
    "# group for count \n",
    "def_grp = dat[dat.OldNewStage.isin(deferred_stages)].groupby(['qt','OldNewStage']).OpportunityID.nunique()\n",
    "lost_grp = dat[dat.OldNewStage.isin(lost_stages)].groupby(['qt','OldNewStage']).OpportunityID.nunique()\n",
    "def_grp .head()\n",
    "# print lost_grp.head()"
   ]
  },
  {
   "cell_type": "code",
   "execution_count": 38,
   "metadata": {
    "collapsed": false,
    "deletable": true,
    "editable": true
   },
   "outputs": [
    {
     "data": {
      "image/png": "[encoded data removed]",
      "text/plain": [
       "<matplotlib.figure.Figure at 0x109922990>"
      ]
     },
     "metadata": {},
     "output_type": "display_data"
    },
    {
     "data": {
      "image/png": "[encoded data removed]",
      "text/plain": [
       "<matplotlib.figure.Figure at 0x10a31d210>"
      ]
     },
     "metadata": {},
     "output_type": "display_data"
    }
   ],
   "source": [
    "# NEW BUSINESS CLOSED DEFERRED & LOST\n",
    "newbus_def = dat[(dat.OldNewStage.isin(deferred_stages)) & (dat.Type=='New Business')]\n",
    "newbus_lost = dat[(dat.OldNewStage.isin(lost_stages)) & (dat.Type=='New Business')]\n",
    "newbus_def_grp = newbus_def.groupby(['qt','OldNewStage']).OpportunityID.nunique()\n",
    "newbus_lost_grp = newbus_lost.groupby(['qt','OldNewStage']).OpportunityID.nunique()\n",
    "# number of closed deferred by qt\n",
    "nb_def_plt = newbus_def_grp.unstack().plot(kind = 'barh',stacked = True, colors =sns.color_palette(\"BuGn\", 11)[4:] ,title = 'New Business Closed Deferred by Quarter', figsize=(8,6))\n",
    "nb_def_plt.set_xlabel('# of Opportunities')\n",
    "nb_def_plt.set_ylabel('')\n",
    "nb_def_plt.legend(loc =10, bbox_to_anchor=(1.25, .95))\n",
    "plt.show()\n",
    "\n",
    "# number of lost by qt\n",
    "nb_lost_plt = newbus_lost_grp.unstack().plot(kind = 'barh',stacked = True, colors =sns.color_palette(\"BuGn\", 11)[4:] ,title = 'New Business Lost by Quarter', figsize=(8,6))\n",
    "nb_lost_plt.set_xlabel('# of Opportunities')\n",
    "nb_lost_plt.set_ylabel('')\n",
    "nb_lost_plt.legend(loc =10, ncol=1, bbox_to_anchor=(1.25, .95))\n",
    "plt.show()"
   ]
  },
  {
   "cell_type": "code",
   "execution_count": 39,
   "metadata": {
    "collapsed": false,
    "deletable": true,
    "editable": true
   },
   "outputs": [
    {
     "data": {
      "image/png": "[encoded data removed]",
      "text/plain": [
       "<matplotlib.figure.Figure at 0x109922790>"
      ]
     },
     "metadata": {},
     "output_type": "display_data"
    },
    {
     "data": {
      "image/png": "[encoded data removed]",
      "text/plain": [
       "<matplotlib.figure.Figure at 0x10a653150>"
      ]
     },
     "metadata": {},
     "output_type": "display_data"
    }
   ],
   "source": [
    "# EXISTING BUSINESS CLOSED DEFERRED & LOST\n",
    "exbus_def = dat[(dat.OldNewStage.isin(deferred_stages)) & (dat.Type=='Existing Business')]\n",
    "exbus_lost = dat[(dat.OldNewStage.isin(lost_stages)) & (dat.Type=='Existing Business')]\n",
    "exbus_def_grp = exbus_def.groupby(['qt','OldNewStage']).OpportunityID.nunique()\n",
    "exbus_lost_grp = exbus_lost.groupby(['qt','OldNewStage']).OpportunityID.nunique()\n",
    "# number of closed deferred by qt\n",
    "eb_def_plt = exbus_def_grp.unstack().plot(kind = 'barh',stacked = True, colors =sns.color_palette(\"BuGn\", 11)[4:] ,title = 'Existing Business Closed Deferred by Quarter', figsize=(8,6))\n",
    "eb_def_plt.set_xlabel('# of Opportunities')\n",
    "eb_def_plt.set_ylabel('')\n",
    "eb_def_plt.legend(loc =10, bbox_to_anchor=(1.25, .95))\n",
    "plt.show()\n",
    "\n",
    "# number of lost by qt\n",
    "eb_lost_plt = newbus_lost_grp.unstack().plot(kind = 'barh',stacked = True, colors =sns.color_palette(\"BuGn\", 11)[4:] ,title = 'Existing Business Lost by Quarter', figsize=(8,6))\n",
    "eb_lost_plt.set_xlabel('# of Opportunities')\n",
    "eb_lost_plt.set_ylabel('')\n",
    "eb_lost_plt.legend(loc =10, ncol=1, bbox_to_anchor=(1.25, .95))\n",
    "plt.show()"
   ]
  },
  {
   "cell_type": "code",
   "execution_count": 40,
   "metadata": {
    "collapsed": false,
    "deletable": true,
    "editable": true
   },
   "outputs": [
    {
     "name": "stdout",
     "output_type": "stream",
     "text": [
      "percent of opps deferred, New Bus 0.878899082569\n",
      "percent of opps deferred, Exist Bus 0.121100917431\n"
     ]
    }
   ],
   "source": [
    "def_opps = dat[dat.OldNewStage.isin(deferred_stages)].OpportunityID.nunique()\n",
    "print \"percent of opps deferred, New Bus\", float(newbus_def.OpportunityID.nunique())/def_opps\n",
    "print \"percent of opps deferred, Exist Bus\", float(exbus_def.OpportunityID.nunique())/def_opps"
   ]
  },
  {
   "cell_type": "code",
   "execution_count": 41,
   "metadata": {
    "collapsed": false,
    "deletable": true,
    "editable": true
   },
   "outputs": [
    {
     "name": "stdout",
     "output_type": "stream",
     "text": [
      "percent of New Business, opps deferred 0.614890885751\n",
      "percent of Existing Business, opps deferred 0.341968911917\n"
     ]
    }
   ],
   "source": [
    "# percent closed deferred of total each type\n",
    "print \"percent of New Business, opps deferred\", float(newbus_def.OpportunityID.nunique())/newbus.OpportunityID.nunique()\n",
    "print \"percent of Existing Business, opps deferred\", float(exbus_def.OpportunityID.nunique())/existbus.OpportunityID.nunique()"
   ]
  },
  {
   "cell_type": "code",
   "execution_count": 42,
   "metadata": {
    "collapsed": false,
    "deletable": true,
    "editable": true
   },
   "outputs": [
    {
     "data": {
      "image/png": "[encoded data removed]",
      "text/plain": [
       "<matplotlib.figure.Figure at 0x109e89210>"
      ]
     },
     "metadata": {},
     "output_type": "display_data"
    }
   ],
   "source": [
    "# number of closed deferred by qt\n",
    "def_plt = def_grp.unstack().plot(kind = 'barh',stacked = True, colors =sns.color_palette(\"BuGn\", 11)[4:] ,title = 'Closed Deferred by Quarter', figsize=(8,6))\n",
    "def_plt.set_xlabel('# of Opportunities')\n",
    "def_plt.set_ylabel('')\n",
    "def_plt.legend( loc =4)\n",
    "plt.show()"
   ]
  },
  {
   "cell_type": "code",
   "execution_count": 43,
   "metadata": {
    "collapsed": false,
    "deletable": true,
    "editable": true
   },
   "outputs": [
    {
     "data": {
      "image/png": "[encoded data removed]",
      "text/plain": [
       "<matplotlib.figure.Figure at 0x10a81c5d0>"
      ]
     },
     "metadata": {},
     "output_type": "display_data"
    }
   ],
   "source": [
    "# number of closed lost by qt\n",
    "lost_plt = lost_grp.unstack().plot(kind = 'barh',stacked = True, colors =sns.color_palette(\"BuGn\", 11)[4:] ,title = 'Closed Lost by Quarter', figsize=(8,6))\n",
    "lost_plt.set_xlabel('# of Opportunities')\n",
    "lost_plt.set_ylabel('')\n",
    "lost_plt.legend(loc =10, ncol=2, bbox_to_anchor=(1.5, 1.05))\n",
    "xticks = xrange(0, 8)\n",
    "lost_plt.set_xticklabels(xticks)\n",
    "plt.show()"
   ]
  },
  {
   "cell_type": "code",
   "execution_count": 44,
   "metadata": {
    "collapsed": false,
    "deletable": true,
    "editable": true
   },
   "outputs": [
    {
     "data": {
      "image/png": "[encoded data removed]",
      "text/plain": [
       "<matplotlib.figure.Figure at 0x10992c610>"
      ]
     },
     "metadata": {},
     "output_type": "display_data"
    }
   ],
   "source": [
    "# look at short list and chosen vendor to closed deferred\n",
    "shortchosen = dat[dat.OldNewStage.isin(deferred_stages[2:4])]\n",
    "# group for count \n",
    "shortchosen_grp = shortchosen.groupby(['qt','OldNewStage']).OpportunityID.nunique()\n",
    "# number of closed deferred by qt\n",
    "sc_plt = shortchosen_grp.unstack().plot(kind = 'bar',stacked = False, colors =sns.color_palette(\"BuGn\", 2) ,title = 'Closed Deferred by Quarter', figsize=(8,6))\n",
    "sc_plt.set_ylabel('# of Opportunities')\n",
    "sc_plt.set_xlabel('')\n",
    "xticks = [item.get_text() for item in sc_plt.get_xticklabels()]\n",
    "sc_plt.set_xticklabels(labels= xticks, rotation = 0)\n",
    "sc_plt.legend(loc =0)\n",
    "plt.show()"
   ]
  },
  {
   "cell_type": "code",
   "execution_count": 45,
   "metadata": {
    "collapsed": false,
    "deletable": true,
    "editable": true
   },
   "outputs": [
    {
     "data": {
      "image/png": "[encoded data removed]",
      "text/plain": [
       "<matplotlib.figure.Figure at 0x10acd20d0>"
      ]
     },
     "metadata": {},
     "output_type": "display_data"
    },
    {
     "data": {
      "image/png": "[encoded data removed]",
      "text/plain": [
       "<matplotlib.figure.Figure at 0x10b0d7290>"
      ]
     },
     "metadata": {},
     "output_type": "display_data"
    },
    {
     "data": {
      "text/plain": [
       "[('Qualified', 'Closed Deferred'),\n",
       " ('Buying Process id.', 'Closed Deferred'),\n",
       " ('Short List', 'Closed Deferred'),\n",
       " ('Chosen Vendor', 'Closed Deferred'),\n",
       " ('Negotiation/Review', 'Closed Deferred'),\n",
       " ('PO In Progress', 'Closed Deferred'),\n",
       " ('Closed Won', 'Closed Deferred')]"
      ]
     },
     "execution_count": 45,
     "metadata": {},
     "output_type": "execute_result"
    }
   ],
   "source": [
    "import matplotlib.dates as mdates\n",
    "\n",
    "colors =sns.color_palette(\"BuGn\", 3)\n",
    "myFmt = mdates.DateFormatter('%Y-%m-%d')\n",
    "\n",
    "fig, axes = plt.subplots(nrows = 1, ncols = 3, figsize= (16,4), sharex = True)\n",
    "fig.subplots_adjust(hspace=.5, wspace=.25)\n",
    "for idx, s in enumerate(deferred_stages[:3]):\n",
    "    def_plt = def_grp.unstack()[s].plot(stacked = False, kind = 'bar', ax = axes[idx], colors =sns.color_palette(\"BuGn\", 5))\n",
    "    axes[idx].set_title(s)\n",
    "    axes[idx].set_xlabel('')   \n",
    "    axes[idx].set_ylabel('')\n",
    "    xticks = [item.get_text() for item in def_plt.get_xticklabels()]\n",
    "    def_plt.set_xticklabels(labels= xticks, rotation = 0)\n",
    "plt.show(fig)\n",
    "\n",
    "\n",
    "fig, axes = plt.subplots(nrows = 1, ncols = 4, figsize= (16,4), sharex = True)\n",
    "fig.subplots_adjust(hspace=.5, wspace=.25)\n",
    "for idx, s in enumerate(deferred_stages[3:]):\n",
    "    def_plt = def_grp.unstack()[s].plot(stacked = False, kind = 'bar', ax = axes[idx], colors =sns.color_palette(\"BuGn\", 5))\n",
    "    axes[idx].set_title(s)\n",
    "    axes[idx].set_xlabel('')   \n",
    "    axes[idx].set_ylabel('')\n",
    "    xticks = [item.get_text() for item in def_plt.get_xticklabels()]\n",
    "    def_plt.set_xticklabels(labels= xticks, rotation = 0)\n",
    "plt.show(fig)\n",
    "\n",
    "deferred_stages"
   ]
  },
  {
   "cell_type": "code",
   "execution_count": 46,
   "metadata": {
    "collapsed": true,
    "deletable": true,
    "editable": true
   },
   "outputs": [],
   "source": [
    "# Lost\n",
    "lost_grp = dat[dat.OldNewStage.isin(lost_stages)].groupby(['qt','OldNewStage']).OpportunityID.nunique()"
   ]
  },
  {
   "cell_type": "code",
   "execution_count": 47,
   "metadata": {
    "collapsed": false,
    "deletable": true,
    "editable": true
   },
   "outputs": [
    {
     "data": {
      "text/plain": [
       "[('Buying Process id.', 'Closed Lost'),\n",
       " ('Qualified', 'Closed Lost'),\n",
       " ('Short List', 'Closed Lost'),\n",
       " ('Chosen Vendor', 'Closed Lost'),\n",
       " ('Closed Won', 'Closed Lost'),\n",
       " ('Negotiation/Review', 'Closed Lost')]"
      ]
     },
     "execution_count": 47,
     "metadata": {},
     "output_type": "execute_result"
    }
   ],
   "source": [
    "lost_grp.reset_index()['OldNewStage'].drop_duplicates().tolist() #lost_stages"
   ]
  },
  {
   "cell_type": "code",
   "execution_count": 48,
   "metadata": {
    "collapsed": false,
    "deletable": true,
    "editable": true
   },
   "outputs": [
    {
     "data": {
      "image/png": "[encoded data removed]",
      "text/plain": [
       "<matplotlib.figure.Figure at 0x10af5e550>"
      ]
     },
     "metadata": {},
     "output_type": "display_data"
    },
    {
     "data": {
      "image/png": "[encoded data removed]",
      "text/plain": [
       "<matplotlib.figure.Figure at 0x10af5e5d0>"
      ]
     },
     "metadata": {},
     "output_type": "display_data"
    }
   ],
   "source": [
    "fig, axes = plt.subplots(nrows = 1, ncols = 3, figsize= (16,4), sharex = True)\n",
    "fig.subplots_adjust(hspace=.5, wspace=.25)\n",
    "lost_s = lost_grp.reset_index()['OldNewStage'].drop_duplicates().tolist()\n",
    "for idx, s in enumerate(lost_s[:3]):\n",
    "    lst_plt = lost_grp.unstack()[s].plot(stacked = False, kind = 'bar', ax = axes[idx], colors =sns.color_palette(\"BuGn\", 5))\n",
    "    axes[idx].set_title(s)\n",
    "    axes[idx].set_xlabel('')   \n",
    "    axes[idx].set_ylabel('')\n",
    "    xticks = [item.get_text() for item in lst_plt.get_xticklabels()]\n",
    "    lst_plt.set_xticklabels(labels= xticks, rotation = 0)\n",
    "plt.show(fig)\n",
    "\n",
    "\n",
    "fig, axes = plt.subplots(nrows = 1, ncols = 3, figsize= (16,4), sharex = True)\n",
    "fig.subplots_adjust(hspace=.5, wspace=.25)\n",
    "for idx, s in enumerate(lost_s[3:]):\n",
    "    lst_plt = lost_grp.unstack()[s].plot(stacked = False, kind = 'bar', ax = axes[idx], colors =sns.color_palette(\"BuGn\", 5))\n",
    "    axes[idx].set_title(s)\n",
    "    axes[idx].set_xlabel('')   \n",
    "    axes[idx].set_ylabel('')\n",
    "    xticks = [item.get_text() for item in lst_plt.get_xticklabels()]\n",
    "    lst_plt.set_xticklabels(labels= xticks, rotation = 0)\n",
    "plt.show(fig)"
   ]
  },
  {
   "cell_type": "code",
   "execution_count": 49,
   "metadata": {
    "collapsed": true,
    "deletable": true,
    "editable": true
   },
   "outputs": [],
   "source": [
    "# new business deferred\n",
    "nb_def_grp = dat[(dat.OldNewStage.isin(deferred_stages)) & (dat.Type == 'New Business')].groupby(['qt','OldNewStage']).OpportunityID.nunique()"
   ]
  },
  {
   "cell_type": "code",
   "execution_count": 50,
   "metadata": {
    "collapsed": true,
    "deletable": true,
    "editable": true
   },
   "outputs": [],
   "source": [
    "nb_lost_grp = dat[(dat.OldNewStage.isin(lost_stages)) & (dat.Type == 'New Business')].groupby(['qt','OldNewStage']).OpportunityID.nunique()"
   ]
  },
  {
   "cell_type": "code",
   "execution_count": 53,
   "metadata": {
    "collapsed": false,
    "deletable": true,
    "editable": true
   },
   "outputs": [
    {
     "data": {
      "image/png": "[encoded data removed]",
      "text/plain": [
       "<matplotlib.figure.Figure at 0x10b09d290>"
      ]
     },
     "metadata": {},
     "output_type": "display_data"
    },
    {
     "data": {
      "image/png": "[encoded data removed]",
      "text/plain": [
       "<matplotlib.figure.Figure at 0x10ba31850>"
      ]
     },
     "metadata": {},
     "output_type": "display_data"
    }
   ],
   "source": [
    "# New Business Closed Deferred\n",
    "import matplotlib.dates as mdates\n",
    "colors =sns.color_palette(\"BuGn\", 3)\n",
    "myFmt = mdates.DateFormatter('%Y-%m-%d')\n",
    "\n",
    "def_nb_stages = nb_def_grp.reset_index()['OldNewStage'].drop_duplicates().tolist()\n",
    "l = list(itemgetter(3,0,-2,1,2,-1)(def_nb_stages))\n",
    "\n",
    "fig, axes = plt.subplots(nrows = 1, ncols = 3, figsize= (16,4), sharex = True)\n",
    "fig.subplots_adjust(hspace=.5, wspace=.25)\n",
    "for idx, s in enumerate(l[:3]):\n",
    "    nb_def_plt = nb_def_grp.unstack()[s].plot(stacked = False, kind = 'bar', ax = axes[idx], colors =sns.color_palette(\"BuGn\", 5))\n",
    "    axes[idx].set_title(s)\n",
    "    axes[idx].set_xlabel('')   \n",
    "    axes[idx].set_ylabel('')\n",
    "    xticks = [item.get_text() for item in nb_def_plt.get_xticklabels()]\n",
    "    nb_def_plt.set_xticklabels(labels= xticks, rotation = 0)\n",
    "plt.show(fig)\n",
    "\n",
    "\n",
    "fig, axes = plt.subplots(nrows = 1, ncols = 3, figsize= (16,4), sharex = True)\n",
    "fig.subplots_adjust(hspace=.5, wspace=.25)\n",
    "for idx, s in enumerate(l[3:]):\n",
    "    nb_def_plt = nb_def_grp.unstack()[s].plot(stacked = False, kind = 'bar', ax = axes[idx], colors =sns.color_palette(\"BuGn\", 5))\n",
    "    axes[idx].set_title(s)\n",
    "    axes[idx].set_xlabel('')   \n",
    "    axes[idx].set_ylabel('')\n",
    "    xticks = [item.get_text() for item in nb_def_plt.get_xticklabels()]\n",
    "    nb_def_plt.set_xticklabels(labels= xticks, rotation = 0)\n",
    "plt.show(fig)\n",
    "\n"
   ]
  },
  {
   "cell_type": "code",
   "execution_count": 54,
   "metadata": {
    "collapsed": false,
    "deletable": true,
    "editable": true
   },
   "outputs": [
    {
     "data": {
      "image/png": "[encoded data removed]",
      "text/plain": [
       "<matplotlib.figure.Figure at 0x10ad5d890>"
      ]
     },
     "metadata": {},
     "output_type": "display_data"
    },
    {
     "data": {
      "image/png": "[encoded data removed]",
      "text/plain": [
       "<matplotlib.figure.Figure at 0x10b635890>"
      ]
     },
     "metadata": {},
     "output_type": "display_data"
    }
   ],
   "source": [
    "# New Business Closed Lost\n",
    "import matplotlib.dates as mdates\n",
    "colors =sns.color_palette(\"BuGn\", 3)\n",
    "myFmt = mdates.DateFormatter('%Y-%m-%d')\n",
    "\n",
    "lost_nb_stages = nb_lost_grp.reset_index()['OldNewStage'].drop_duplicates().tolist()\n",
    "l2 = list(itemgetter(1,0,2,-1,-2,3)(lost_nb_stages))\n",
    "\n",
    "fig, axes = plt.subplots(nrows = 1, ncols = 3, figsize= (16,4), sharex = True)\n",
    "fig.subplots_adjust(hspace=.5, wspace=.25)\n",
    "for idx, s in enumerate(l2[:3]):\n",
    "    nb_def_plt = nb_lost_grp.unstack()[s].plot(stacked = False, kind = 'bar', ax = axes[idx], colors =sns.color_palette(\"BuGn\", 5))\n",
    "    axes[idx].set_title(s)\n",
    "    axes[idx].set_xlabel('')   \n",
    "    axes[idx].set_ylabel('')\n",
    "    xticks = [item.get_text() for item in nb_def_plt.get_xticklabels()]\n",
    "    nb_def_plt.set_xticklabels(labels= xticks, rotation = 0)\n",
    "plt.show(fig)\n",
    "\n",
    "\n",
    "fig, axes = plt.subplots(nrows = 1, ncols = 3, figsize= (16,4), sharex = True)\n",
    "fig.subplots_adjust(hspace=.5, wspace=.25)\n",
    "for idx, s in enumerate(l2[3:]):\n",
    "    nb_def_plt = nb_lost_grp.unstack()[s].plot(stacked = False, kind = 'bar', ax = axes[idx], colors =sns.color_palette(\"BuGn\", 5))\n",
    "    axes[idx].set_title(s)\n",
    "    axes[idx].set_xlabel('')   \n",
    "    axes[idx].set_ylabel('')\n",
    "    xticks = [item.get_text() for item in nb_def_plt.get_xticklabels()]\n",
    "    nb_def_plt.set_xticklabels(labels= xticks, rotation = 0)\n",
    "plt.show(fig)"
   ]
  },
  {
   "cell_type": "code",
   "execution_count": 60,
   "metadata": {
    "collapsed": false,
    "deletable": true,
    "editable": true
   },
   "outputs": [
    {
     "data": {
      "text/plain": [
       "qt      qt_timing\n",
       "2016Q1  1            11\n",
       "        2             6\n",
       "        3             8\n",
       "2016Q2  1            11\n",
       "        2            20\n",
       "        3            17\n",
       "2016Q3  1            30\n",
       "        2            70\n",
       "        3            40\n",
       "2016Q4  1            31\n",
       "        2            36\n",
       "        3            56\n",
       "2017Q1  1            21\n",
       "        2            29\n",
       "        3            33\n",
       "Name: OpportunityID, dtype: int64"
      ]
     },
     "execution_count": 60,
     "metadata": {},
     "output_type": "execute_result"
    }
   ],
   "source": [
    "# number of Qualified to Closed Deferred by time of qt\n",
    "qual_def = dat[(dat.OldValue =='Qualified') & (dat.OldNewStage.isin(deferred_stages))].groupby(['qt','qt_timing']).OpportunityID.nunique()\n",
    "qual_def"
   ]
  },
  {
   "cell_type": "code",
   "execution_count": 59,
   "metadata": {
    "collapsed": false,
    "deletable": true,
    "editable": true
   },
   "outputs": [
    {
     "data": {
      "image/png": "[encoded data removed]",
      "text/plain": [
       "<matplotlib.figure.Figure at 0x10b58cfd0>"
      ]
     },
     "metadata": {},
     "output_type": "display_data"
    }
   ],
   "source": [
    "qual_plt = qual_def.unstack().plot(stacked = False, kind = 'bar', colors =sns.color_palette(\"BuGn\", 3), title ='Qualified to Deferred' )\n",
    "qual_plt.legend(['Start','Mid','End'], loc =2)\n",
    "qual_plt.set_xlabel('')\n",
    "xticks = [item.get_text() for item in qual_plt.get_xticklabels()]\n",
    "qual_plt.set_xticklabels(labels= xticks, rotation = 0)\n",
    "plt.show()"
   ]
  },
  {
   "cell_type": "code",
   "execution_count": 61,
   "metadata": {
    "collapsed": false,
    "deletable": true,
    "editable": true
   },
   "outputs": [],
   "source": [
    "# closed deferred - New vs Existing\n",
    "new_def = newbus[newbus.OldNewStage.isin(deferred_stages)]\n",
    "exist_def = existbus[existbus.OldNewStage.isin(deferred_stages)]\n",
    "\n",
    "new_def_grp  = new_def.groupby(['qt','OldNewStage']).OpportunityID.nunique()\n",
    "exist_def_grp = exist_def.groupby(['qt','OldNewStage']).OpportunityID.nunique()"
   ]
  },
  {
   "cell_type": "code",
   "execution_count": 62,
   "metadata": {
    "collapsed": false,
    "deletable": true,
    "editable": true
   },
   "outputs": [
    {
     "data": {
      "image/png": "[encoded data removed]",
      "text/plain": [
       "<matplotlib.figure.Figure at 0x10bb5ced0>"
      ]
     },
     "metadata": {},
     "output_type": "display_data"
    },
    {
     "data": {
      "image/png": "[encoded data removed]",
      "text/plain": [
       "<matplotlib.figure.Figure at 0x10bee62d0>"
      ]
     },
     "metadata": {},
     "output_type": "display_data"
    }
   ],
   "source": [
    "# number of closed deferred by qt - New vs Existing\n",
    "new_def_plt = new_def_grp.unstack().plot(kind = 'barh',stacked = True, colors =sns.color_palette(\"BuGn\", 7) ,title = 'Closed Deferred by Quarter - New Business', figsize=(8,6))\n",
    "new_def_plt.set_xlabel('# of Opportunities')\n",
    "new_def_plt.set_ylabel('')\n",
    "new_def_plt.legend( loc =4)\n",
    "plt.show()\n",
    "\n",
    "exist_def_plt = exist_def_grp.unstack().plot(kind = 'barh',stacked = True, colors =sns.color_palette(\"BuGn\", 7) ,title = 'Closed Deferred by Quarter - Existing Business', figsize=(8,6))\n",
    "exist_def_plt.set_xlabel('# of Opportunities')\n",
    "exist_def_plt.set_ylabel('')\n",
    "exist_def_plt.legend( loc =4)\n",
    "plt.show()\n"
   ]
  },
  {
   "cell_type": "code",
   "execution_count": null,
   "metadata": {
    "collapsed": true,
    "deletable": true,
    "editable": true
   },
   "outputs": [],
   "source": []
  },
  {
   "cell_type": "markdown",
   "metadata": {
    "deletable": true,
    "editable": true
   },
   "source": [
    "## Average stage duration for all Opportunities"
   ]
  },
  {
   "cell_type": "markdown",
   "metadata": {
    "deletable": true,
    "editable": true
   },
   "source": [
    "#### SALES CYCLE STAGE DURATION STATISTICS: MEAN, MEDIAN & STDEV"
   ]
  },
  {
   "cell_type": "code",
   "execution_count": 478,
   "metadata": {
    "collapsed": false,
    "deletable": true,
    "editable": true
   },
   "outputs": [],
   "source": [
    "\n",
    "stage_stats = dat[dat.OldNewStage.isin(opp_stages)].groupby(['OldNewStage']).days_in_stage.agg(['sum','mean','median',sc.std])"
   ]
  },
  {
   "cell_type": "code",
   "execution_count": 479,
   "metadata": {
    "collapsed": false,
    "deletable": true,
    "editable": true
   },
   "outputs": [],
   "source": [
    "stage_stats = stage_stats.join(dat[dat.OldNewStage.isin(opp_stages)].groupby(['OldNewStage']).OpportunityID.nunique())"
   ]
  },
  {
   "cell_type": "code",
   "execution_count": 480,
   "metadata": {
    "collapsed": false,
    "deletable": true,
    "editable": true
   },
   "outputs": [
    {
     "data": {
      "text/html": [
       "<div>\n",
       "<table border=\"1\" class=\"dataframe\">\n",
       "  <thead>\n",
       "    <tr style=\"text-align: right;\">\n",
       "      <th></th>\n",
       "      <th>sum</th>\n",
       "      <th>mean</th>\n",
       "      <th>median</th>\n",
       "      <th>std</th>\n",
       "      <th>OpportunityID</th>\n",
       "    </tr>\n",
       "    <tr>\n",
       "      <th>OldNewStage</th>\n",
       "      <th></th>\n",
       "      <th></th>\n",
       "      <th></th>\n",
       "      <th></th>\n",
       "      <th></th>\n",
       "    </tr>\n",
       "  </thead>\n",
       "  <tbody>\n",
       "    <tr>\n",
       "      <th>(Buying Process id., Short List)</th>\n",
       "      <td>4133</td>\n",
       "      <td>31.075188</td>\n",
       "      <td>20.0</td>\n",
       "      <td>40.958520</td>\n",
       "      <td>126</td>\n",
       "    </tr>\n",
       "    <tr>\n",
       "      <th>(Chosen Vendor, Negotiation/Review)</th>\n",
       "      <td>2698</td>\n",
       "      <td>34.589744</td>\n",
       "      <td>17.5</td>\n",
       "      <td>45.002867</td>\n",
       "      <td>70</td>\n",
       "    </tr>\n",
       "    <tr>\n",
       "      <th>(Negotiation/Review, PO In Progress)</th>\n",
       "      <td>1389</td>\n",
       "      <td>23.150000</td>\n",
       "      <td>10.0</td>\n",
       "      <td>29.990860</td>\n",
       "      <td>59</td>\n",
       "    </tr>\n",
       "    <tr>\n",
       "      <th>(PO In Progress, Closed Won)</th>\n",
       "      <td>1836</td>\n",
       "      <td>16.392857</td>\n",
       "      <td>4.5</td>\n",
       "      <td>32.432149</td>\n",
       "      <td>109</td>\n",
       "    </tr>\n",
       "    <tr>\n",
       "      <th>(Qualified, Buying Process id.)</th>\n",
       "      <td>11150</td>\n",
       "      <td>45.884774</td>\n",
       "      <td>23.0</td>\n",
       "      <td>59.063027</td>\n",
       "      <td>232</td>\n",
       "    </tr>\n",
       "    <tr>\n",
       "      <th>(Short List, Chosen Vendor)</th>\n",
       "      <td>4186</td>\n",
       "      <td>41.860000</td>\n",
       "      <td>23.0</td>\n",
       "      <td>54.410713</td>\n",
       "      <td>92</td>\n",
       "    </tr>\n",
       "  </tbody>\n",
       "</table>\n",
       "</div>"
      ],
      "text/plain": [
       "                                        sum       mean  median        std  \\\n",
       "OldNewStage                                                                 \n",
       "(Buying Process id., Short List)       4133  31.075188    20.0  40.958520   \n",
       "(Chosen Vendor, Negotiation/Review)    2698  34.589744    17.5  45.002867   \n",
       "(Negotiation/Review, PO In Progress)   1389  23.150000    10.0  29.990860   \n",
       "(PO In Progress, Closed Won)           1836  16.392857     4.5  32.432149   \n",
       "(Qualified, Buying Process id.)       11150  45.884774    23.0  59.063027   \n",
       "(Short List, Chosen Vendor)            4186  41.860000    23.0  54.410713   \n",
       "\n",
       "                                      OpportunityID  \n",
       "OldNewStage                                          \n",
       "(Buying Process id., Short List)                126  \n",
       "(Chosen Vendor, Negotiation/Review)              70  \n",
       "(Negotiation/Review, PO In Progress)             59  \n",
       "(PO In Progress, Closed Won)                    109  \n",
       "(Qualified, Buying Process id.)                 232  \n",
       "(Short List, Chosen Vendor)                      92  "
      ]
     },
     "execution_count": 480,
     "metadata": {},
     "output_type": "execute_result"
    }
   ],
   "source": [
    "stage_stats"
   ]
  },
  {
   "cell_type": "code",
   "execution_count": 439,
   "metadata": {
    "collapsed": false,
    "deletable": true,
    "editable": true
   },
   "outputs": [],
   "source": [
    "# AVG STAGE DURATION IN SALES CYCLE\n",
    "stage_dur = dat.groupby('OldNewStage').days_in_stage.mean()\n",
    "stage_dur = stage_dur.where(lambda x: x>0).dropna()\n",
    "stage_dur = stage_dur.reset_index()\n",
    "stage_dur = stage_dur[stage_dur.OldNewStage.isin(opp_stages)]"
   ]
  },
  {
   "cell_type": "code",
   "execution_count": 449,
   "metadata": {
    "collapsed": false,
    "deletable": true,
    "editable": true
   },
   "outputs": [
    {
     "name": "stdout",
     "output_type": "stream",
     "text": [
      "median:\n",
      "                             OldNewStage  days_in_stage\n",
      "5       (Buying Process id., Short List)           20.0\n",
      "10   (Chosen Vendor, Negotiation/Review)           17.5\n",
      "28  (Negotiation/Review, PO In Progress)           10.0\n",
      "33          (PO In Progress, Closed Won)            4.5\n",
      "36       (Qualified, Buying Process id.)           23.0\n",
      "43           (Short List, Chosen Vendor)           23.0\n"
     ]
    }
   ],
   "source": [
    "# stage duration sum, median and stdev\n",
    "stage_median = dat.groupby('OldNewStage').days_in_stage.median()\n",
    "stage_median = stage_median.where(lambda x: x>0).dropna().reset_index()\n",
    "stage_median = stage_median[stage_median.OldNewStage.isin(opp_stages)]\n",
    "print \"median:\\n\", stage_median\n"
   ]
  },
  {
   "cell_type": "code",
   "execution_count": 453,
   "metadata": {
    "collapsed": false,
    "deletable": true,
    "editable": true
   },
   "outputs": [
    {
     "name": "stdout",
     "output_type": "stream",
     "text": [
      "stdev:\n",
      "                             OldNewStage  days_in_stage\n",
      "7       (Buying Process id., Short List)      40.958520\n",
      "12   (Chosen Vendor, Negotiation/Review)      45.002867\n",
      "28  (Negotiation/Review, PO In Progress)      29.990860\n",
      "32          (PO In Progress, Closed Won)      32.432149\n",
      "34       (Qualified, Buying Process id.)      59.063027\n",
      "42           (Short List, Chosen Vendor)      54.410713\n"
     ]
    }
   ],
   "source": [
    "stage_stdev = dat.groupby('OldNewStage').days_in_stage.std()\n",
    "stage_stdev = stage_stdev.where(lambda x: x>0).dropna().reset_index()\n",
    "stage_stdev = stage_stdev[stage_stdev.OldNewStage.isin(opp_stages)]\n",
    "print \"stdev:\\n\", stage_stdev"
   ]
  },
  {
   "cell_type": "code",
   "execution_count": 422,
   "metadata": {
    "collapsed": false,
    "deletable": true,
    "editable": true
   },
   "outputs": [
    {
     "data": {
      "text/html": [
       "<div>\n",
       "<table border=\"1\" class=\"dataframe\">\n",
       "  <thead>\n",
       "    <tr style=\"text-align: right;\">\n",
       "      <th></th>\n",
       "      <th>OldNewStage</th>\n",
       "      <th>days_in_stage</th>\n",
       "    </tr>\n",
       "  </thead>\n",
       "  <tbody>\n",
       "    <tr>\n",
       "      <th>7</th>\n",
       "      <td>(Buying Process id., Short List)</td>\n",
       "      <td>31.075188</td>\n",
       "    </tr>\n",
       "    <tr>\n",
       "      <th>12</th>\n",
       "      <td>(Chosen Vendor, Negotiation/Review)</td>\n",
       "      <td>34.589744</td>\n",
       "    </tr>\n",
       "    <tr>\n",
       "      <th>31</th>\n",
       "      <td>(Negotiation/Review, PO In Progress)</td>\n",
       "      <td>23.150000</td>\n",
       "    </tr>\n",
       "    <tr>\n",
       "      <th>36</th>\n",
       "      <td>(PO In Progress, Closed Won)</td>\n",
       "      <td>16.392857</td>\n",
       "    </tr>\n",
       "    <tr>\n",
       "      <th>39</th>\n",
       "      <td>(Qualified, Buying Process id.)</td>\n",
       "      <td>45.884774</td>\n",
       "    </tr>\n",
       "    <tr>\n",
       "      <th>47</th>\n",
       "      <td>(Short List, Chosen Vendor)</td>\n",
       "      <td>41.860000</td>\n",
       "    </tr>\n",
       "  </tbody>\n",
       "</table>\n",
       "</div>"
      ],
      "text/plain": [
       "                             OldNewStage  days_in_stage\n",
       "7       (Buying Process id., Short List)      31.075188\n",
       "12   (Chosen Vendor, Negotiation/Review)      34.589744\n",
       "31  (Negotiation/Review, PO In Progress)      23.150000\n",
       "36          (PO In Progress, Closed Won)      16.392857\n",
       "39       (Qualified, Buying Process id.)      45.884774\n",
       "47           (Short List, Chosen Vendor)      41.860000"
      ]
     },
     "execution_count": 422,
     "metadata": {},
     "output_type": "execute_result"
    }
   ],
   "source": [
    "# AVG STAGE DURATION IN SALES CYCLE\n",
    "stage_dur[stage_dur.OldNewStage.isin(opp_stages)]"
   ]
  },
  {
   "cell_type": "code",
   "execution_count": null,
   "metadata": {
    "collapsed": true,
    "deletable": true,
    "editable": true
   },
   "outputs": [],
   "source": [
    "stage_dur[stage_dur.OldNewStage.isin(opp_stages)]"
   ]
  },
  {
   "cell_type": "markdown",
   "metadata": {
    "collapsed": false,
    "deletable": true,
    "editable": true
   },
   "source": [
    "### Industry Section \n",
    "* What does the industry distribution look like?\n",
    "* How many days are spent on average in each stage?\n",
    "* Distribution of closed deferred by type and industry"
   ]
  },
  {
   "cell_type": "code",
   "execution_count": 626,
   "metadata": {
    "collapsed": false,
    "deletable": true,
    "editable": true
   },
   "outputs": [
    {
     "name": "stdout",
     "output_type": "stream",
     "text": [
      "industry\n",
      "Federal                33\n",
      "Financial Services    287\n",
      "Healthcare            103\n",
      "Life Sciences          31\n",
      "Other                 327\n",
      "Technology             24\n",
      "Name: OpportunityID, dtype: int64\n",
      "\n",
      "industry\n",
      "Federal                 5\n",
      "Financial Services    120\n",
      "Healthcare             11\n",
      "Life Sciences           6\n",
      "Other                  42\n",
      "Technology             13\n",
      "Name: OpportunityID, dtype: int64\n"
     ]
    }
   ],
   "source": [
    "# What does the industry distribution look like?\n",
    "print newbus.groupby('industry').OpportunityID.nunique()\n",
    "print\n",
    "print existbus.groupby('industry').OpportunityID.nunique()"
   ]
  },
  {
   "cell_type": "code",
   "execution_count": 643,
   "metadata": {
    "collapsed": false,
    "deletable": true,
    "editable": true
   },
   "outputs": [
    {
     "data": {
      "text/html": [
       "<div>\n",
       "<table border=\"1\" class=\"dataframe\">\n",
       "  <thead>\n",
       "    <tr style=\"text-align: right;\">\n",
       "      <th></th>\n",
       "      <th></th>\n",
       "      <th>percent_type</th>\n",
       "    </tr>\n",
       "    <tr>\n",
       "      <th>Type</th>\n",
       "      <th>industry</th>\n",
       "      <th></th>\n",
       "    </tr>\n",
       "  </thead>\n",
       "  <tbody>\n",
       "    <tr>\n",
       "      <th rowspan=\"6\" valign=\"top\">Existing Business</th>\n",
       "      <th>Federal</th>\n",
       "      <td>0.025381</td>\n",
       "    </tr>\n",
       "    <tr>\n",
       "      <th>Financial Services</th>\n",
       "      <td>0.609137</td>\n",
       "    </tr>\n",
       "    <tr>\n",
       "      <th>Healthcare</th>\n",
       "      <td>0.055838</td>\n",
       "    </tr>\n",
       "    <tr>\n",
       "      <th>Life Sciences</th>\n",
       "      <td>0.030457</td>\n",
       "    </tr>\n",
       "    <tr>\n",
       "      <th>Other</th>\n",
       "      <td>0.213198</td>\n",
       "    </tr>\n",
       "    <tr>\n",
       "      <th>Technology</th>\n",
       "      <td>0.065990</td>\n",
       "    </tr>\n",
       "    <tr>\n",
       "      <th rowspan=\"6\" valign=\"top\">New Business</th>\n",
       "      <th>Federal</th>\n",
       "      <td>0.040994</td>\n",
       "    </tr>\n",
       "    <tr>\n",
       "      <th>Financial Services</th>\n",
       "      <td>0.356522</td>\n",
       "    </tr>\n",
       "    <tr>\n",
       "      <th>Healthcare</th>\n",
       "      <td>0.127950</td>\n",
       "    </tr>\n",
       "    <tr>\n",
       "      <th>Life Sciences</th>\n",
       "      <td>0.038509</td>\n",
       "    </tr>\n",
       "    <tr>\n",
       "      <th>Other</th>\n",
       "      <td>0.406211</td>\n",
       "    </tr>\n",
       "    <tr>\n",
       "      <th>Technology</th>\n",
       "      <td>0.029814</td>\n",
       "    </tr>\n",
       "  </tbody>\n",
       "</table>\n",
       "</div>"
      ],
      "text/plain": [
       "                                      percent_type\n",
       "Type              industry                        \n",
       "Existing Business Federal                 0.025381\n",
       "                  Financial Services      0.609137\n",
       "                  Healthcare              0.055838\n",
       "                  Life Sciences           0.030457\n",
       "                  Other                   0.213198\n",
       "                  Technology              0.065990\n",
       "New Business      Federal                 0.040994\n",
       "                  Financial Services      0.356522\n",
       "                  Healthcare              0.127950\n",
       "                  Life Sciences           0.038509\n",
       "                  Other                   0.406211\n",
       "                  Technology              0.029814"
      ]
     },
     "execution_count": 643,
     "metadata": {},
     "output_type": "execute_result"
    }
   ],
   "source": [
    "type_res = pd.DataFrame()\n",
    "type_ind_grp = dat.groupby(['Type','industry']).OpportunityID.nunique()\n",
    "g_type = dat.groupby(['Type']).OpportunityID.nunique()\n",
    "res = pd.DataFrame(type_ind_grp.div(g_type, level='Type'))\n",
    "res.columns = ['percent_type']\n",
    "res"
   ]
  },
  {
   "cell_type": "code",
   "execution_count": 342,
   "metadata": {
    "collapsed": false,
    "deletable": true,
    "editable": true
   },
   "outputs": [
    {
     "data": {
      "text/plain": [
       "Index([u'Federal', u'Financial Services', u'Healthcare', u'Life Sciences',\n",
       "       u'Other', u'Technology'],\n",
       "      dtype='object', name=u'industry')"
      ]
     },
     "execution_count": 342,
     "metadata": {},
     "output_type": "execute_result"
    }
   ],
   "source": [
    "ind_labels = res.index.levels[1]"
   ]
  },
  {
   "cell_type": "code",
   "execution_count": 642,
   "metadata": {
    "collapsed": false,
    "deletable": true,
    "editable": true
   },
   "outputs": [
    {
     "data": {
      "text/html": [
       "<div>\n",
       "<table border=\"1\" class=\"dataframe\">\n",
       "  <thead>\n",
       "    <tr style=\"text-align: right;\">\n",
       "      <th></th>\n",
       "      <th></th>\n",
       "      <th>mean</th>\n",
       "      <th>median</th>\n",
       "      <th>std</th>\n",
       "    </tr>\n",
       "    <tr>\n",
       "      <th>Type</th>\n",
       "      <th>industry</th>\n",
       "      <th></th>\n",
       "      <th></th>\n",
       "      <th></th>\n",
       "    </tr>\n",
       "  </thead>\n",
       "  <tbody>\n",
       "    <tr>\n",
       "      <th rowspan=\"6\" valign=\"top\">Existing Business</th>\n",
       "      <th>Federal</th>\n",
       "      <td>59.777778</td>\n",
       "      <td>26.0</td>\n",
       "      <td>86.618095</td>\n",
       "    </tr>\n",
       "    <tr>\n",
       "      <th>Financial Services</th>\n",
       "      <td>40.085106</td>\n",
       "      <td>15.5</td>\n",
       "      <td>60.886802</td>\n",
       "    </tr>\n",
       "    <tr>\n",
       "      <th>Healthcare</th>\n",
       "      <td>53.761905</td>\n",
       "      <td>31.0</td>\n",
       "      <td>73.556716</td>\n",
       "    </tr>\n",
       "    <tr>\n",
       "      <th>Life Sciences</th>\n",
       "      <td>21.428571</td>\n",
       "      <td>6.5</td>\n",
       "      <td>28.316112</td>\n",
       "    </tr>\n",
       "    <tr>\n",
       "      <th>Other</th>\n",
       "      <td>37.893443</td>\n",
       "      <td>14.0</td>\n",
       "      <td>54.593737</td>\n",
       "    </tr>\n",
       "    <tr>\n",
       "      <th>Technology</th>\n",
       "      <td>81.562500</td>\n",
       "      <td>7.0</td>\n",
       "      <td>106.468755</td>\n",
       "    </tr>\n",
       "    <tr>\n",
       "      <th rowspan=\"6\" valign=\"top\">New Business</th>\n",
       "      <th>Federal</th>\n",
       "      <td>67.836364</td>\n",
       "      <td>26.0</td>\n",
       "      <td>83.913042</td>\n",
       "    </tr>\n",
       "    <tr>\n",
       "      <th>Financial Services</th>\n",
       "      <td>53.688226</td>\n",
       "      <td>29.0</td>\n",
       "      <td>67.805117</td>\n",
       "    </tr>\n",
       "    <tr>\n",
       "      <th>Healthcare</th>\n",
       "      <td>53.473430</td>\n",
       "      <td>27.0</td>\n",
       "      <td>71.049948</td>\n",
       "    </tr>\n",
       "    <tr>\n",
       "      <th>Life Sciences</th>\n",
       "      <td>71.423077</td>\n",
       "      <td>50.5</td>\n",
       "      <td>66.860506</td>\n",
       "    </tr>\n",
       "    <tr>\n",
       "      <th>Other</th>\n",
       "      <td>52.664865</td>\n",
       "      <td>23.0</td>\n",
       "      <td>71.233912</td>\n",
       "    </tr>\n",
       "    <tr>\n",
       "      <th>Technology</th>\n",
       "      <td>36.542373</td>\n",
       "      <td>19.0</td>\n",
       "      <td>49.441474</td>\n",
       "    </tr>\n",
       "  </tbody>\n",
       "</table>\n",
       "</div>"
      ],
      "text/plain": [
       "                                           mean  median         std\n",
       "Type              industry                                         \n",
       "Existing Business Federal             59.777778    26.0   86.618095\n",
       "                  Financial Services  40.085106    15.5   60.886802\n",
       "                  Healthcare          53.761905    31.0   73.556716\n",
       "                  Life Sciences       21.428571     6.5   28.316112\n",
       "                  Other               37.893443    14.0   54.593737\n",
       "                  Technology          81.562500     7.0  106.468755\n",
       "New Business      Federal             67.836364    26.0   83.913042\n",
       "                  Financial Services  53.688226    29.0   67.805117\n",
       "                  Healthcare          53.473430    27.0   71.049948\n",
       "                  Life Sciences       71.423077    50.5   66.860506\n",
       "                  Other               52.664865    23.0   71.233912\n",
       "                  Technology          36.542373    19.0   49.441474"
      ]
     },
     "execution_count": 642,
     "metadata": {},
     "output_type": "execute_result"
    }
   ],
   "source": [
    "# avg days in stage by type and industry\n",
    "# type_ind_avg = pd.DataFrame(dat.groupby(['Type','industry']).days_in_stage.mean())\n",
    "type_ind_avg = pd.DataFrame(dat.groupby(['Type','industry']).days_in_stage.agg(['mean','median',sc.std]))\n",
    "type_ind_avg\n",
    "# number of closed won by type and industry"
   ]
  },
  {
   "cell_type": "code",
   "execution_count": 633,
   "metadata": {
    "collapsed": false,
    "deletable": true,
    "editable": true
   },
   "outputs": [
    {
     "data": {
      "text/html": [
       "<div>\n",
       "<table border=\"1\" class=\"dataframe\">\n",
       "  <thead>\n",
       "    <tr style=\"text-align: right;\">\n",
       "      <th></th>\n",
       "      <th></th>\n",
       "      <th>Closed_Deferred</th>\n",
       "    </tr>\n",
       "    <tr>\n",
       "      <th>Type</th>\n",
       "      <th>industry</th>\n",
       "      <th></th>\n",
       "    </tr>\n",
       "  </thead>\n",
       "  <tbody>\n",
       "    <tr>\n",
       "      <th rowspan=\"6\" valign=\"top\">Existing Business</th>\n",
       "      <th>Federal</th>\n",
       "      <td>3</td>\n",
       "    </tr>\n",
       "    <tr>\n",
       "      <th>Financial Services</th>\n",
       "      <td>37</td>\n",
       "    </tr>\n",
       "    <tr>\n",
       "      <th>Healthcare</th>\n",
       "      <td>6</td>\n",
       "    </tr>\n",
       "    <tr>\n",
       "      <th>Life Sciences</th>\n",
       "      <td>1</td>\n",
       "    </tr>\n",
       "    <tr>\n",
       "      <th>Other</th>\n",
       "      <td>17</td>\n",
       "    </tr>\n",
       "    <tr>\n",
       "      <th>Technology</th>\n",
       "      <td>5</td>\n",
       "    </tr>\n",
       "    <tr>\n",
       "      <th rowspan=\"6\" valign=\"top\">New Business</th>\n",
       "      <th>Federal</th>\n",
       "      <td>25</td>\n",
       "    </tr>\n",
       "    <tr>\n",
       "      <th>Financial Services</th>\n",
       "      <td>149</td>\n",
       "    </tr>\n",
       "    <tr>\n",
       "      <th>Healthcare</th>\n",
       "      <td>65</td>\n",
       "    </tr>\n",
       "    <tr>\n",
       "      <th>Life Sciences</th>\n",
       "      <td>20</td>\n",
       "    </tr>\n",
       "    <tr>\n",
       "      <th>Other</th>\n",
       "      <td>214</td>\n",
       "    </tr>\n",
       "    <tr>\n",
       "      <th>Technology</th>\n",
       "      <td>16</td>\n",
       "    </tr>\n",
       "  </tbody>\n",
       "</table>\n",
       "</div>"
      ],
      "text/plain": [
       "                                      Closed_Deferred\n",
       "Type              industry                           \n",
       "Existing Business Federal                           3\n",
       "                  Financial Services               37\n",
       "                  Healthcare                        6\n",
       "                  Life Sciences                     1\n",
       "                  Other                            17\n",
       "                  Technology                        5\n",
       "New Business      Federal                          25\n",
       "                  Financial Services              149\n",
       "                  Healthcare                       65\n",
       "                  Life Sciences                    20\n",
       "                  Other                           214\n",
       "                  Technology                       16"
      ]
     },
     "execution_count": 633,
     "metadata": {},
     "output_type": "execute_result"
    }
   ],
   "source": [
    "# Distribution of closed deferred by type and industry\n",
    "\n",
    "# closed deferred opps grouped by type & industry\n",
    "ind_def_grp = dat[dat.OldNewStage.isin(deferred_stages)].groupby(['Type','industry'])\n",
    "ind_def_grp = pd.DataFrame(ind_def_grp.OpportunityID.nunique())\n",
    "ind_def_grp.columns = ['Closed_Deferred']\n",
    "\n",
    "ind_def_grp"
   ]
  },
  {
   "cell_type": "code",
   "execution_count": 634,
   "metadata": {
    "collapsed": false,
    "deletable": true,
    "editable": true
   },
   "outputs": [
    {
     "data": {
      "text/html": [
       "<div>\n",
       "<table border=\"1\" class=\"dataframe\">\n",
       "  <thead>\n",
       "    <tr style=\"text-align: right;\">\n",
       "      <th></th>\n",
       "      <th></th>\n",
       "      <th>Closed_Won</th>\n",
       "    </tr>\n",
       "    <tr>\n",
       "      <th>Type</th>\n",
       "      <th>industry</th>\n",
       "      <th></th>\n",
       "    </tr>\n",
       "  </thead>\n",
       "  <tbody>\n",
       "    <tr>\n",
       "      <th rowspan=\"6\" valign=\"top\">Existing Business</th>\n",
       "      <th>Federal</th>\n",
       "      <td>2</td>\n",
       "    </tr>\n",
       "    <tr>\n",
       "      <th>Financial Services</th>\n",
       "      <td>59</td>\n",
       "    </tr>\n",
       "    <tr>\n",
       "      <th>Healthcare</th>\n",
       "      <td>5</td>\n",
       "    </tr>\n",
       "    <tr>\n",
       "      <th>Life Sciences</th>\n",
       "      <td>3</td>\n",
       "    </tr>\n",
       "    <tr>\n",
       "      <th>Other</th>\n",
       "      <td>19</td>\n",
       "    </tr>\n",
       "    <tr>\n",
       "      <th>Technology</th>\n",
       "      <td>4</td>\n",
       "    </tr>\n",
       "    <tr>\n",
       "      <th rowspan=\"6\" valign=\"top\">New Business</th>\n",
       "      <th>Federal</th>\n",
       "      <td>2</td>\n",
       "    </tr>\n",
       "    <tr>\n",
       "      <th>Financial Services</th>\n",
       "      <td>34</td>\n",
       "    </tr>\n",
       "    <tr>\n",
       "      <th>Healthcare</th>\n",
       "      <td>15</td>\n",
       "    </tr>\n",
       "    <tr>\n",
       "      <th>Life Sciences</th>\n",
       "      <td>3</td>\n",
       "    </tr>\n",
       "    <tr>\n",
       "      <th>Other</th>\n",
       "      <td>21</td>\n",
       "    </tr>\n",
       "    <tr>\n",
       "      <th>Technology</th>\n",
       "      <td>3</td>\n",
       "    </tr>\n",
       "  </tbody>\n",
       "</table>\n",
       "</div>"
      ],
      "text/plain": [
       "                                      Closed_Won\n",
       "Type              industry                      \n",
       "Existing Business Federal                      2\n",
       "                  Financial Services          59\n",
       "                  Healthcare                   5\n",
       "                  Life Sciences                3\n",
       "                  Other                       19\n",
       "                  Technology                   4\n",
       "New Business      Federal                      2\n",
       "                  Financial Services          34\n",
       "                  Healthcare                  15\n",
       "                  Life Sciences                3\n",
       "                  Other                       21\n",
       "                  Technology                   3"
      ]
     },
     "execution_count": 634,
     "metadata": {},
     "output_type": "execute_result"
    }
   ],
   "source": [
    "# Distribution of closed won by type and industry\n",
    "\n",
    "# closed won opps grouped by type & industry\n",
    "ind_won_grp = dat[dat.OldNewStage.isin(won_stages)].groupby(['Type','industry'])\n",
    "ind_won_grp = pd.DataFrame(ind_won_grp.OpportunityID.nunique())\n",
    "ind_won_grp.columns = ['Closed_Won']\n",
    "\n",
    "ind_won_grp"
   ]
  },
  {
   "cell_type": "code",
   "execution_count": 644,
   "metadata": {
    "collapsed": false,
    "deletable": true,
    "editable": true
   },
   "outputs": [],
   "source": [
    "# join percenty by type with avg days in stage\n",
    "res = res.join(type_ind_avg)"
   ]
  },
  {
   "cell_type": "code",
   "execution_count": 645,
   "metadata": {
    "collapsed": false,
    "deletable": true,
    "editable": true
   },
   "outputs": [],
   "source": [
    "# join number of closed deferred\n",
    "res = res.join(ind_def_grp)"
   ]
  },
  {
   "cell_type": "code",
   "execution_count": 646,
   "metadata": {
    "collapsed": false,
    "deletable": true,
    "editable": true
   },
   "outputs": [
    {
     "data": {
      "text/html": [
       "<div>\n",
       "<table border=\"1\" class=\"dataframe\">\n",
       "  <thead>\n",
       "    <tr style=\"text-align: right;\">\n",
       "      <th></th>\n",
       "      <th></th>\n",
       "      <th>percent_type</th>\n",
       "      <th>mean</th>\n",
       "      <th>median</th>\n",
       "      <th>std</th>\n",
       "      <th>Closed_Deferred</th>\n",
       "      <th>Closed_Won</th>\n",
       "    </tr>\n",
       "    <tr>\n",
       "      <th>Type</th>\n",
       "      <th>industry</th>\n",
       "      <th></th>\n",
       "      <th></th>\n",
       "      <th></th>\n",
       "      <th></th>\n",
       "      <th></th>\n",
       "      <th></th>\n",
       "    </tr>\n",
       "  </thead>\n",
       "  <tbody>\n",
       "    <tr>\n",
       "      <th rowspan=\"6\" valign=\"top\">Existing Business</th>\n",
       "      <th>Federal</th>\n",
       "      <td>0.025381</td>\n",
       "      <td>59.777778</td>\n",
       "      <td>26.0</td>\n",
       "      <td>86.618095</td>\n",
       "      <td>3</td>\n",
       "      <td>2</td>\n",
       "    </tr>\n",
       "    <tr>\n",
       "      <th>Financial Services</th>\n",
       "      <td>0.609137</td>\n",
       "      <td>40.085106</td>\n",
       "      <td>15.5</td>\n",
       "      <td>60.886802</td>\n",
       "      <td>37</td>\n",
       "      <td>59</td>\n",
       "    </tr>\n",
       "    <tr>\n",
       "      <th>Healthcare</th>\n",
       "      <td>0.055838</td>\n",
       "      <td>53.761905</td>\n",
       "      <td>31.0</td>\n",
       "      <td>73.556716</td>\n",
       "      <td>6</td>\n",
       "      <td>5</td>\n",
       "    </tr>\n",
       "    <tr>\n",
       "      <th>Life Sciences</th>\n",
       "      <td>0.030457</td>\n",
       "      <td>21.428571</td>\n",
       "      <td>6.5</td>\n",
       "      <td>28.316112</td>\n",
       "      <td>1</td>\n",
       "      <td>3</td>\n",
       "    </tr>\n",
       "    <tr>\n",
       "      <th>Other</th>\n",
       "      <td>0.213198</td>\n",
       "      <td>37.893443</td>\n",
       "      <td>14.0</td>\n",
       "      <td>54.593737</td>\n",
       "      <td>17</td>\n",
       "      <td>19</td>\n",
       "    </tr>\n",
       "    <tr>\n",
       "      <th>Technology</th>\n",
       "      <td>0.065990</td>\n",
       "      <td>81.562500</td>\n",
       "      <td>7.0</td>\n",
       "      <td>106.468755</td>\n",
       "      <td>5</td>\n",
       "      <td>4</td>\n",
       "    </tr>\n",
       "    <tr>\n",
       "      <th rowspan=\"6\" valign=\"top\">New Business</th>\n",
       "      <th>Federal</th>\n",
       "      <td>0.040994</td>\n",
       "      <td>67.836364</td>\n",
       "      <td>26.0</td>\n",
       "      <td>83.913042</td>\n",
       "      <td>25</td>\n",
       "      <td>2</td>\n",
       "    </tr>\n",
       "    <tr>\n",
       "      <th>Financial Services</th>\n",
       "      <td>0.356522</td>\n",
       "      <td>53.688226</td>\n",
       "      <td>29.0</td>\n",
       "      <td>67.805117</td>\n",
       "      <td>149</td>\n",
       "      <td>34</td>\n",
       "    </tr>\n",
       "    <tr>\n",
       "      <th>Healthcare</th>\n",
       "      <td>0.127950</td>\n",
       "      <td>53.473430</td>\n",
       "      <td>27.0</td>\n",
       "      <td>71.049948</td>\n",
       "      <td>65</td>\n",
       "      <td>15</td>\n",
       "    </tr>\n",
       "    <tr>\n",
       "      <th>Life Sciences</th>\n",
       "      <td>0.038509</td>\n",
       "      <td>71.423077</td>\n",
       "      <td>50.5</td>\n",
       "      <td>66.860506</td>\n",
       "      <td>20</td>\n",
       "      <td>3</td>\n",
       "    </tr>\n",
       "    <tr>\n",
       "      <th>Other</th>\n",
       "      <td>0.406211</td>\n",
       "      <td>52.664865</td>\n",
       "      <td>23.0</td>\n",
       "      <td>71.233912</td>\n",
       "      <td>214</td>\n",
       "      <td>21</td>\n",
       "    </tr>\n",
       "    <tr>\n",
       "      <th>Technology</th>\n",
       "      <td>0.029814</td>\n",
       "      <td>36.542373</td>\n",
       "      <td>19.0</td>\n",
       "      <td>49.441474</td>\n",
       "      <td>16</td>\n",
       "      <td>3</td>\n",
       "    </tr>\n",
       "  </tbody>\n",
       "</table>\n",
       "</div>"
      ],
      "text/plain": [
       "                                      percent_type       mean  median  \\\n",
       "Type              industry                                              \n",
       "Existing Business Federal                 0.025381  59.777778    26.0   \n",
       "                  Financial Services      0.609137  40.085106    15.5   \n",
       "                  Healthcare              0.055838  53.761905    31.0   \n",
       "                  Life Sciences           0.030457  21.428571     6.5   \n",
       "                  Other                   0.213198  37.893443    14.0   \n",
       "                  Technology              0.065990  81.562500     7.0   \n",
       "New Business      Federal                 0.040994  67.836364    26.0   \n",
       "                  Financial Services      0.356522  53.688226    29.0   \n",
       "                  Healthcare              0.127950  53.473430    27.0   \n",
       "                  Life Sciences           0.038509  71.423077    50.5   \n",
       "                  Other                   0.406211  52.664865    23.0   \n",
       "                  Technology              0.029814  36.542373    19.0   \n",
       "\n",
       "                                             std  Closed_Deferred  Closed_Won  \n",
       "Type              industry                                                     \n",
       "Existing Business Federal              86.618095                3           2  \n",
       "                  Financial Services   60.886802               37          59  \n",
       "                  Healthcare           73.556716                6           5  \n",
       "                  Life Sciences        28.316112                1           3  \n",
       "                  Other                54.593737               17          19  \n",
       "                  Technology          106.468755                5           4  \n",
       "New Business      Federal              83.913042               25           2  \n",
       "                  Financial Services   67.805117              149          34  \n",
       "                  Healthcare           71.049948               65          15  \n",
       "                  Life Sciences        66.860506               20           3  \n",
       "                  Other                71.233912              214          21  \n",
       "                  Technology           49.441474               16           3  "
      ]
     },
     "execution_count": 646,
     "metadata": {},
     "output_type": "execute_result"
    }
   ],
   "source": [
    "res = res.join(ind_won_grp)\n",
    "res"
   ]
  },
  {
   "cell_type": "code",
   "execution_count": 421,
   "metadata": {
    "collapsed": false,
    "deletable": true,
    "editable": true
   },
   "outputs": [
    {
     "data": {
      "image/png": "[encoded data removed]",
      "text/plain": [
       "<matplotlib.figure.Figure at 0x10b394850>"
      ]
     },
     "metadata": {},
     "output_type": "display_data"
    }
   ],
   "source": [
    "l = ['Existing Business','New Business']\n",
    "fig, ax = plt.subplots(nrows = 1, ncols = 1, figsize= (12,4))\n",
    "res_pct_plt = res.unstack()['percent_type'].plot(kind='bar', colors = paired_cols, ax = ax)\n",
    "ax.set_xlabel('')\n",
    "ax.legend(loc='best', ncol=2, fancybox=True, shadow=True)\n",
    "plt.title('Percent of total Opportunities by Type')\n",
    "res_pct_plt.set_xticklabels(labels= l, rotation = 0)\n",
    "plt.show(fig)"
   ]
  },
  {
   "cell_type": "markdown",
   "metadata": {
    "deletable": true,
    "editable": true
   },
   "source": [
    "### Add In dept and Sales rep - # opps, stage duration, avg deals"
   ]
  },
  {
   "cell_type": "code",
   "execution_count": 706,
   "metadata": {
    "collapsed": true,
    "deletable": true,
    "editable": true
   },
   "outputs": [],
   "source": [
    "# make sure no nulls\n",
    "dat.loc[dat.Division.isnull(),'Division'] = 'Admin'"
   ]
  },
  {
   "cell_type": "code",
   "execution_count": 707,
   "metadata": {
    "collapsed": true,
    "deletable": true,
    "editable": true
   },
   "outputs": [],
   "source": [
    "# grouped by division and salesrep\n",
    "div_res = pd.DataFrame()\n",
    "div_grp = dat.groupby(['Division','SalesRep']).OpportunityID.nunique()\n"
   ]
  },
  {
   "cell_type": "code",
   "execution_count": 708,
   "metadata": {
    "collapsed": false,
    "deletable": true,
    "editable": true
   },
   "outputs": [],
   "source": [
    "div_all = dat.groupby(['Division']).OpportunityID.nunique()"
   ]
  },
  {
   "cell_type": "code",
   "execution_count": 705,
   "metadata": {
    "collapsed": false,
    "deletable": true,
    "editable": true
   },
   "outputs": [
    {
     "data": {
      "text/plain": [
       "2851        Tugce Akkalay\n",
       "3931        Lizbeth Burke\n",
       "528     Stijn Christiaens\n",
       "4622         Josh Pollock\n",
       "Name: SalesRep, dtype: object"
      ]
     },
     "execution_count": 705,
     "metadata": {},
     "output_type": "execute_result"
    }
   ],
   "source": [
    "dat[dat.Division.isnull()].SalesRep.drop_duplicates()"
   ]
  },
  {
   "cell_type": "code",
   "execution_count": 709,
   "metadata": {
    "collapsed": false,
    "deletable": true,
    "editable": true
   },
   "outputs": [
    {
     "data": {
      "text/html": [
       "<div>\n",
       "<table border=\"1\" class=\"dataframe\">\n",
       "  <thead>\n",
       "    <tr style=\"text-align: right;\">\n",
       "      <th></th>\n",
       "      <th>Avg_stage_dur</th>\n",
       "      <th>Closed_Deferred</th>\n",
       "      <th>Closed_Lost</th>\n",
       "      <th>Closed_Won</th>\n",
       "      <th>Total</th>\n",
       "    </tr>\n",
       "  </thead>\n",
       "  <tbody>\n",
       "    <tr>\n",
       "      <th>Admin</th>\n",
       "      <td>45.008621</td>\n",
       "      <td>50.0</td>\n",
       "      <td>6.0</td>\n",
       "      <td>14.0</td>\n",
       "      <td>76</td>\n",
       "    </tr>\n",
       "    <tr>\n",
       "      <th>Inside Sales</th>\n",
       "      <td>48.524950</td>\n",
       "      <td>192.0</td>\n",
       "      <td>18.0</td>\n",
       "      <td>20.0</td>\n",
       "      <td>278</td>\n",
       "    </tr>\n",
       "    <tr>\n",
       "      <th>Management</th>\n",
       "      <td>0.000000</td>\n",
       "      <td>2.0</td>\n",
       "      <td>1.0</td>\n",
       "      <td>NaN</td>\n",
       "      <td>3</td>\n",
       "    </tr>\n",
       "    <tr>\n",
       "      <th>Partners</th>\n",
       "      <td>35.214286</td>\n",
       "      <td>6.0</td>\n",
       "      <td>NaN</td>\n",
       "      <td>9.0</td>\n",
       "      <td>15</td>\n",
       "    </tr>\n",
       "    <tr>\n",
       "      <th>Regional</th>\n",
       "      <td>51.796675</td>\n",
       "      <td>181.0</td>\n",
       "      <td>25.0</td>\n",
       "      <td>54.0</td>\n",
       "      <td>358</td>\n",
       "    </tr>\n",
       "    <tr>\n",
       "      <th>SDR</th>\n",
       "      <td>98.000000</td>\n",
       "      <td>NaN</td>\n",
       "      <td>3.0</td>\n",
       "      <td>NaN</td>\n",
       "      <td>6</td>\n",
       "    </tr>\n",
       "    <tr>\n",
       "      <th>Sales</th>\n",
       "      <td>19.571429</td>\n",
       "      <td>8.0</td>\n",
       "      <td>NaN</td>\n",
       "      <td>NaN</td>\n",
       "      <td>18</td>\n",
       "    </tr>\n",
       "    <tr>\n",
       "      <th>Sales MGR</th>\n",
       "      <td>96.885714</td>\n",
       "      <td>18.0</td>\n",
       "      <td>3.0</td>\n",
       "      <td>2.0</td>\n",
       "      <td>22</td>\n",
       "    </tr>\n",
       "    <tr>\n",
       "      <th>Strategic</th>\n",
       "      <td>51.622754</td>\n",
       "      <td>101.0</td>\n",
       "      <td>12.0</td>\n",
       "      <td>71.0</td>\n",
       "      <td>226</td>\n",
       "    </tr>\n",
       "  </tbody>\n",
       "</table>\n",
       "</div>"
      ],
      "text/plain": [
       "              Avg_stage_dur  Closed_Deferred  Closed_Lost  Closed_Won  Total\n",
       "Admin             45.008621             50.0          6.0        14.0     76\n",
       "Inside Sales      48.524950            192.0         18.0        20.0    278\n",
       "Management         0.000000              2.0          1.0         NaN      3\n",
       "Partners          35.214286              6.0          NaN         9.0     15\n",
       "Regional          51.796675            181.0         25.0        54.0    358\n",
       "SDR               98.000000              NaN          3.0         NaN      6\n",
       "Sales             19.571429              8.0          NaN         NaN     18\n",
       "Sales MGR         96.885714             18.0          3.0         2.0     22\n",
       "Strategic         51.622754            101.0         12.0        71.0    226"
      ]
     },
     "execution_count": 709,
     "metadata": {},
     "output_type": "execute_result"
    }
   ],
   "source": [
    "pd.DataFrame({'Total': dat.groupby(['Division']).OpportunityID.nunique(),\n",
    "'Closed_Won':dat[dat.OldNewStage.isin(won_stages)].groupby(['Division']).OpportunityID.nunique(),\n",
    "'Closed_Lost':dat[dat.OldNewStage.isin(lost_stages)].groupby(['Division']).OpportunityID.nunique(),\n",
    "'Closed_Deferred':dat[dat.OldNewStage.isin(deferred_stages)].groupby(['Division']).OpportunityID.nunique(),\n",
    "'Avg_stage_dur': dat.groupby(['Division']).days_in_stage.mean()})"
   ]
  },
  {
   "cell_type": "code",
   "execution_count": 710,
   "metadata": {
    "collapsed": false,
    "deletable": true,
    "editable": true
   },
   "outputs": [
    {
     "name": "stdout",
     "output_type": "stream",
     "text": [
      "Closed Deferred by division\n"
     ]
    },
    {
     "data": {
      "text/plain": [
       "Division\n",
       "Admin            50\n",
       "Inside Sales    192\n",
       "Management        2\n",
       "Partners          6\n",
       "Regional        181\n",
       "Sales             8\n",
       "Sales MGR        18\n",
       "Strategic       101\n",
       "Name: OpportunityID, dtype: int64"
      ]
     },
     "execution_count": 710,
     "metadata": {},
     "output_type": "execute_result"
    }
   ],
   "source": [
    "print \"Closed Deferred by division\"\n",
    "dat[dat.OldNewStage.isin(deferred_stages)].groupby(['Division']).OpportunityID.nunique()"
   ]
  },
  {
   "cell_type": "code",
   "execution_count": 711,
   "metadata": {
    "collapsed": false,
    "deletable": true,
    "editable": true
   },
   "outputs": [
    {
     "name": "stdout",
     "output_type": "stream",
     "text": [
      "Closed Lost by division\n",
      "Division\n",
      "Admin            6\n",
      "Inside Sales    18\n",
      "Management       1\n",
      "Regional        25\n",
      "SDR              3\n",
      "Sales MGR        3\n",
      "Strategic       12\n",
      "Name: OpportunityID, dtype: int64\n",
      "\n",
      "Closed Won by division\n",
      "Division\n",
      "Admin           14\n",
      "Inside Sales    20\n",
      "Partners         9\n",
      "Regional        54\n",
      "Sales MGR        2\n",
      "Strategic       71\n",
      "Name: OpportunityID, dtype: int64\n"
     ]
    }
   ],
   "source": [
    "print \"Closed Lost by division\"\n",
    "print dat[dat.OldNewStage.isin(lost_stages)].groupby(['Division']).OpportunityID.nunique()\n",
    "print\n",
    "print \"Closed Won by division\"\n",
    "print dat[dat.OldNewStage.isin(won_stages)].groupby(['Division']).OpportunityID.nunique()\n",
    "\n"
   ]
  },
  {
   "cell_type": "code",
   "execution_count": 712,
   "metadata": {
    "collapsed": false,
    "deletable": true,
    "editable": true
   },
   "outputs": [
    {
     "data": {
      "text/plain": [
       "{'Admin': array(['Tugce Akkalay', 'Lizbeth Burke', 'Maarten Masschelein',\n",
       "        'Stijn Christiaens', 'Erin McInerney', 'Josh Pollock'], dtype=object),\n",
       " 'Inside Sales': array(['Mike Bianchi', 'Akira Lewis', 'Nihal Rao', 'Boris Shvartsman',\n",
       "        'Sean Arnold'], dtype=object),\n",
       " 'Management': array(['Benny Verhaeghe'], dtype=object),\n",
       " 'Partners': array(['Robert Rich'], dtype=object),\n",
       " 'Regional': array(['Lance Keel', 'Bettina Engelen', 'Mark Favelson', 'Safina Shaheed',\n",
       "        'Shelemat Daniel', 'Bianca Vloon', 'Greg Ursetta', 'Toby Shean',\n",
       "        'Trevor Trodd', 'Lauren Raeburn', 'Nanci Uher'], dtype=object),\n",
       " 'SDR': array(['Tony Fitzgerald'], dtype=object),\n",
       " 'Sales': array(['Jeffrey Bertrand', 'Catherine Estep'], dtype=object),\n",
       " 'Sales MGR': array(['Steve Neat', 'Michael Pezza'], dtype=object),\n",
       " 'Strategic': array(['Greg Smith', 'Michael Amaral', 'Chris Cooper', 'Linda Pollack',\n",
       "        'Steffan Davies', 'Larry Campobasso', 'Tiffany Hess'], dtype=object)}"
      ]
     },
     "execution_count": 712,
     "metadata": {},
     "output_type": "execute_result"
    }
   ],
   "source": [
    "dat.groupby('Division').SalesRep.unique().to_dict()"
   ]
  },
  {
   "cell_type": "code",
   "execution_count": 670,
   "metadata": {
    "collapsed": false,
    "deletable": true,
    "editable": true
   },
   "outputs": [
    {
     "data": {
      "text/html": [
       "<div>\n",
       "<table border=\"1\" class=\"dataframe\">\n",
       "  <thead>\n",
       "    <tr style=\"text-align: right;\">\n",
       "      <th></th>\n",
       "      <th></th>\n",
       "      <th>percent_total</th>\n",
       "      <th>total_opps</th>\n",
       "    </tr>\n",
       "    <tr>\n",
       "      <th>Division</th>\n",
       "      <th>SalesRep</th>\n",
       "      <th></th>\n",
       "      <th></th>\n",
       "    </tr>\n",
       "  </thead>\n",
       "  <tbody>\n",
       "    <tr>\n",
       "      <th rowspan=\"5\" valign=\"top\">Inside Sales</th>\n",
       "      <th>Akira Lewis</th>\n",
       "      <td>0.248201</td>\n",
       "      <td>69</td>\n",
       "    </tr>\n",
       "    <tr>\n",
       "      <th>Boris Shvartsman</th>\n",
       "      <td>0.097122</td>\n",
       "      <td>27</td>\n",
       "    </tr>\n",
       "    <tr>\n",
       "      <th>Mike Bianchi</th>\n",
       "      <td>0.294964</td>\n",
       "      <td>82</td>\n",
       "    </tr>\n",
       "    <tr>\n",
       "      <th>Nihal Rao</th>\n",
       "      <td>0.201439</td>\n",
       "      <td>56</td>\n",
       "    </tr>\n",
       "    <tr>\n",
       "      <th>Sean Arnold</th>\n",
       "      <td>0.158273</td>\n",
       "      <td>44</td>\n",
       "    </tr>\n",
       "  </tbody>\n",
       "</table>\n",
       "</div>"
      ],
      "text/plain": [
       "                               percent_total  total_opps\n",
       "Division     SalesRep                                   \n",
       "Inside Sales Akira Lewis            0.248201          69\n",
       "             Boris Shvartsman       0.097122          27\n",
       "             Mike Bianchi           0.294964          82\n",
       "             Nihal Rao              0.201439          56\n",
       "             Sean Arnold            0.158273          44"
      ]
     },
     "execution_count": 670,
     "metadata": {},
     "output_type": "execute_result"
    }
   ],
   "source": [
    "# exclude these for now\n",
    "div_exclude= ['Admin','Management','Partners']\n",
    "div_grp = dat[~dat.Division.isin(div_exclude)].groupby(['Division','SalesRep']).OpportunityID.nunique()\n",
    "div_grp\n",
    "div_totals = dat.groupby(['Division']).OpportunityID.nunique()\n",
    "div_res = pd.DataFrame({'percent_total':div_grp.div(div_totals, level = 'Division'), \n",
    "                        'total_opps': div_grp})\n",
    "# div_res = pd.DataFrame(div_grp.div(div_totals, level = 'Division'))\n",
    "# div_res.columns = ['percent_total']\n",
    "div_res.head()"
   ]
  },
  {
   "cell_type": "code",
   "execution_count": 671,
   "metadata": {
    "collapsed": false,
    "deletable": true,
    "editable": true
   },
   "outputs": [
    {
     "data": {
      "text/html": [
       "<div>\n",
       "<table border=\"1\" class=\"dataframe\">\n",
       "  <thead>\n",
       "    <tr style=\"text-align: right;\">\n",
       "      <th></th>\n",
       "      <th></th>\n",
       "      <th>Closed_Won</th>\n",
       "    </tr>\n",
       "    <tr>\n",
       "      <th>Division</th>\n",
       "      <th>SalesRep</th>\n",
       "      <th></th>\n",
       "    </tr>\n",
       "  </thead>\n",
       "  <tbody>\n",
       "    <tr>\n",
       "      <th rowspan=\"4\" valign=\"top\">Inside Sales</th>\n",
       "      <th>Akira Lewis</th>\n",
       "      <td>4</td>\n",
       "    </tr>\n",
       "    <tr>\n",
       "      <th>Boris Shvartsman</th>\n",
       "      <td>3</td>\n",
       "    </tr>\n",
       "    <tr>\n",
       "      <th>Mike Bianchi</th>\n",
       "      <td>4</td>\n",
       "    </tr>\n",
       "    <tr>\n",
       "      <th>Sean Arnold</th>\n",
       "      <td>9</td>\n",
       "    </tr>\n",
       "    <tr>\n",
       "      <th>Regional</th>\n",
       "      <th>Bettina Engelen</th>\n",
       "      <td>2</td>\n",
       "    </tr>\n",
       "  </tbody>\n",
       "</table>\n",
       "</div>"
      ],
      "text/plain": [
       "                               Closed_Won\n",
       "Division     SalesRep                    \n",
       "Inside Sales Akira Lewis                4\n",
       "             Boris Shvartsman           3\n",
       "             Mike Bianchi               4\n",
       "             Sean Arnold                9\n",
       "Regional     Bettina Engelen            2"
      ]
     },
     "execution_count": 671,
     "metadata": {},
     "output_type": "execute_result"
    }
   ],
   "source": [
    "# closed won opps grouped by Division & salesrep\n",
    "div_won_grp = dat[(dat.OldNewStage.isin(won_stages)) & (~dat.Division.isin(div_exclude))].groupby(['Division','SalesRep'])\n",
    "div_won_grp = pd.DataFrame(div_won_grp.OpportunityID.nunique())\n",
    "div_won_grp.columns = ['Closed_Won']\n",
    "\n",
    "div_won_grp.head()"
   ]
  },
  {
   "cell_type": "code",
   "execution_count": 672,
   "metadata": {
    "collapsed": false,
    "deletable": true,
    "editable": true
   },
   "outputs": [
    {
     "data": {
      "text/html": [
       "<div>\n",
       "<table border=\"1\" class=\"dataframe\">\n",
       "  <thead>\n",
       "    <tr style=\"text-align: right;\">\n",
       "      <th></th>\n",
       "      <th></th>\n",
       "      <th>Closed_Deferred</th>\n",
       "    </tr>\n",
       "    <tr>\n",
       "      <th>Division</th>\n",
       "      <th>SalesRep</th>\n",
       "      <th></th>\n",
       "    </tr>\n",
       "  </thead>\n",
       "  <tbody>\n",
       "    <tr>\n",
       "      <th rowspan=\"5\" valign=\"top\">Inside Sales</th>\n",
       "      <th>Akira Lewis</th>\n",
       "      <td>47</td>\n",
       "    </tr>\n",
       "    <tr>\n",
       "      <th>Boris Shvartsman</th>\n",
       "      <td>20</td>\n",
       "    </tr>\n",
       "    <tr>\n",
       "      <th>Mike Bianchi</th>\n",
       "      <td>53</td>\n",
       "    </tr>\n",
       "    <tr>\n",
       "      <th>Nihal Rao</th>\n",
       "      <td>45</td>\n",
       "    </tr>\n",
       "    <tr>\n",
       "      <th>Sean Arnold</th>\n",
       "      <td>27</td>\n",
       "    </tr>\n",
       "  </tbody>\n",
       "</table>\n",
       "</div>"
      ],
      "text/plain": [
       "                               Closed_Deferred\n",
       "Division     SalesRep                         \n",
       "Inside Sales Akira Lewis                    47\n",
       "             Boris Shvartsman               20\n",
       "             Mike Bianchi                   53\n",
       "             Nihal Rao                      45\n",
       "             Sean Arnold                    27"
      ]
     },
     "execution_count": 672,
     "metadata": {},
     "output_type": "execute_result"
    }
   ],
   "source": [
    "# closed deferred opps grouped by Division & salesrep\n",
    "div_def_grp = dat[(dat.OldNewStage.isin(deferred_stages)) & (~dat.Division.isin(div_exclude))].groupby(['Division','SalesRep'])\n",
    "div_def_grp = pd.DataFrame(div_def_grp.OpportunityID.nunique())\n",
    "div_def_grp.columns = ['Closed_Deferred']\n",
    "\n",
    "div_def_grp.head()"
   ]
  },
  {
   "cell_type": "code",
   "execution_count": 673,
   "metadata": {
    "collapsed": false,
    "deletable": true,
    "editable": true
   },
   "outputs": [
    {
     "data": {
      "text/html": [
       "<div>\n",
       "<table border=\"1\" class=\"dataframe\">\n",
       "  <thead>\n",
       "    <tr style=\"text-align: right;\">\n",
       "      <th></th>\n",
       "      <th></th>\n",
       "      <th>Closed_Lost</th>\n",
       "    </tr>\n",
       "    <tr>\n",
       "      <th>Division</th>\n",
       "      <th>SalesRep</th>\n",
       "      <th></th>\n",
       "    </tr>\n",
       "  </thead>\n",
       "  <tbody>\n",
       "    <tr>\n",
       "      <th rowspan=\"4\" valign=\"top\">Inside Sales</th>\n",
       "      <th>Akira Lewis</th>\n",
       "      <td>4</td>\n",
       "    </tr>\n",
       "    <tr>\n",
       "      <th>Boris Shvartsman</th>\n",
       "      <td>3</td>\n",
       "    </tr>\n",
       "    <tr>\n",
       "      <th>Mike Bianchi</th>\n",
       "      <td>3</td>\n",
       "    </tr>\n",
       "    <tr>\n",
       "      <th>Sean Arnold</th>\n",
       "      <td>8</td>\n",
       "    </tr>\n",
       "    <tr>\n",
       "      <th>Regional</th>\n",
       "      <th>Bettina Engelen</th>\n",
       "      <td>3</td>\n",
       "    </tr>\n",
       "  </tbody>\n",
       "</table>\n",
       "</div>"
      ],
      "text/plain": [
       "                               Closed_Lost\n",
       "Division     SalesRep                     \n",
       "Inside Sales Akira Lewis                 4\n",
       "             Boris Shvartsman            3\n",
       "             Mike Bianchi                3\n",
       "             Sean Arnold                 8\n",
       "Regional     Bettina Engelen             3"
      ]
     },
     "execution_count": 673,
     "metadata": {},
     "output_type": "execute_result"
    }
   ],
   "source": [
    "# closed deferred lost grouped by Division & salesrep\n",
    "div_lost_grp = dat[(dat.OldNewStage.isin(lost_stages)) & (~dat.Division.isin(div_exclude))].groupby(['Division','SalesRep'])\n",
    "div_lost_grp = pd.DataFrame(div_lost_grp.OpportunityID.nunique())\n",
    "div_lost_grp.columns = ['Closed_Lost']\n",
    "\n",
    "div_lost_grp.head()"
   ]
  },
  {
   "cell_type": "code",
   "execution_count": 674,
   "metadata": {
    "collapsed": true,
    "deletable": true,
    "editable": true
   },
   "outputs": [],
   "source": [
    "# join percenty by type with avg days in stage\n",
    "div_res = div_res.join(div_won_grp)\n"
   ]
  },
  {
   "cell_type": "code",
   "execution_count": 675,
   "metadata": {
    "collapsed": false,
    "deletable": true,
    "editable": true
   },
   "outputs": [
    {
     "data": {
      "text/html": [
       "<div>\n",
       "<table border=\"1\" class=\"dataframe\">\n",
       "  <thead>\n",
       "    <tr style=\"text-align: right;\">\n",
       "      <th></th>\n",
       "      <th></th>\n",
       "      <th>percent_total</th>\n",
       "      <th>total_opps</th>\n",
       "      <th>Closed_Won</th>\n",
       "    </tr>\n",
       "    <tr>\n",
       "      <th>Division</th>\n",
       "      <th>SalesRep</th>\n",
       "      <th></th>\n",
       "      <th></th>\n",
       "      <th></th>\n",
       "    </tr>\n",
       "  </thead>\n",
       "  <tbody>\n",
       "    <tr>\n",
       "      <th rowspan=\"5\" valign=\"top\">Inside Sales</th>\n",
       "      <th>Akira Lewis</th>\n",
       "      <td>0.248201</td>\n",
       "      <td>69</td>\n",
       "      <td>4.0</td>\n",
       "    </tr>\n",
       "    <tr>\n",
       "      <th>Boris Shvartsman</th>\n",
       "      <td>0.097122</td>\n",
       "      <td>27</td>\n",
       "      <td>3.0</td>\n",
       "    </tr>\n",
       "    <tr>\n",
       "      <th>Mike Bianchi</th>\n",
       "      <td>0.294964</td>\n",
       "      <td>82</td>\n",
       "      <td>4.0</td>\n",
       "    </tr>\n",
       "    <tr>\n",
       "      <th>Nihal Rao</th>\n",
       "      <td>0.201439</td>\n",
       "      <td>56</td>\n",
       "      <td>NaN</td>\n",
       "    </tr>\n",
       "    <tr>\n",
       "      <th>Sean Arnold</th>\n",
       "      <td>0.158273</td>\n",
       "      <td>44</td>\n",
       "      <td>9.0</td>\n",
       "    </tr>\n",
       "  </tbody>\n",
       "</table>\n",
       "</div>"
      ],
      "text/plain": [
       "                               percent_total  total_opps  Closed_Won\n",
       "Division     SalesRep                                               \n",
       "Inside Sales Akira Lewis            0.248201          69         4.0\n",
       "             Boris Shvartsman       0.097122          27         3.0\n",
       "             Mike Bianchi           0.294964          82         4.0\n",
       "             Nihal Rao              0.201439          56         NaN\n",
       "             Sean Arnold            0.158273          44         9.0"
      ]
     },
     "execution_count": 675,
     "metadata": {},
     "output_type": "execute_result"
    }
   ],
   "source": [
    "div_res.head()"
   ]
  },
  {
   "cell_type": "code",
   "execution_count": 676,
   "metadata": {
    "collapsed": false,
    "deletable": true,
    "editable": true
   },
   "outputs": [
    {
     "data": {
      "text/html": [
       "<div>\n",
       "<table border=\"1\" class=\"dataframe\">\n",
       "  <thead>\n",
       "    <tr style=\"text-align: right;\">\n",
       "      <th></th>\n",
       "      <th></th>\n",
       "      <th>percent_total</th>\n",
       "      <th>total_opps</th>\n",
       "      <th>Closed_Won</th>\n",
       "      <th>Closed_Lost</th>\n",
       "      <th>Closed_Deferred</th>\n",
       "    </tr>\n",
       "    <tr>\n",
       "      <th>Division</th>\n",
       "      <th>SalesRep</th>\n",
       "      <th></th>\n",
       "      <th></th>\n",
       "      <th></th>\n",
       "      <th></th>\n",
       "      <th></th>\n",
       "    </tr>\n",
       "  </thead>\n",
       "  <tbody>\n",
       "    <tr>\n",
       "      <th rowspan=\"5\" valign=\"top\">Inside Sales</th>\n",
       "      <th>Akira Lewis</th>\n",
       "      <td>0.248201</td>\n",
       "      <td>69</td>\n",
       "      <td>4.0</td>\n",
       "      <td>4.0</td>\n",
       "      <td>47.0</td>\n",
       "    </tr>\n",
       "    <tr>\n",
       "      <th>Boris Shvartsman</th>\n",
       "      <td>0.097122</td>\n",
       "      <td>27</td>\n",
       "      <td>3.0</td>\n",
       "      <td>3.0</td>\n",
       "      <td>20.0</td>\n",
       "    </tr>\n",
       "    <tr>\n",
       "      <th>Mike Bianchi</th>\n",
       "      <td>0.294964</td>\n",
       "      <td>82</td>\n",
       "      <td>4.0</td>\n",
       "      <td>3.0</td>\n",
       "      <td>53.0</td>\n",
       "    </tr>\n",
       "    <tr>\n",
       "      <th>Nihal Rao</th>\n",
       "      <td>0.201439</td>\n",
       "      <td>56</td>\n",
       "      <td>NaN</td>\n",
       "      <td>NaN</td>\n",
       "      <td>45.0</td>\n",
       "    </tr>\n",
       "    <tr>\n",
       "      <th>Sean Arnold</th>\n",
       "      <td>0.158273</td>\n",
       "      <td>44</td>\n",
       "      <td>9.0</td>\n",
       "      <td>8.0</td>\n",
       "      <td>27.0</td>\n",
       "    </tr>\n",
       "  </tbody>\n",
       "</table>\n",
       "</div>"
      ],
      "text/plain": [
       "                               percent_total  total_opps  Closed_Won  \\\n",
       "Division     SalesRep                                                  \n",
       "Inside Sales Akira Lewis            0.248201          69         4.0   \n",
       "             Boris Shvartsman       0.097122          27         3.0   \n",
       "             Mike Bianchi           0.294964          82         4.0   \n",
       "             Nihal Rao              0.201439          56         NaN   \n",
       "             Sean Arnold            0.158273          44         9.0   \n",
       "\n",
       "                               Closed_Lost  Closed_Deferred  \n",
       "Division     SalesRep                                        \n",
       "Inside Sales Akira Lewis               4.0             47.0  \n",
       "             Boris Shvartsman          3.0             20.0  \n",
       "             Mike Bianchi              3.0             53.0  \n",
       "             Nihal Rao                 NaN             45.0  \n",
       "             Sean Arnold               8.0             27.0  "
      ]
     },
     "execution_count": 676,
     "metadata": {},
     "output_type": "execute_result"
    }
   ],
   "source": [
    "div_res = div_res.join(div_lost_grp)\n",
    "div_res = div_res.join(div_def_grp)\n",
    "div_res.head()"
   ]
  },
  {
   "cell_type": "code",
   "execution_count": 678,
   "metadata": {
    "collapsed": false,
    "deletable": true,
    "editable": true
   },
   "outputs": [],
   "source": [
    "div_res.to_csv(data_path + \"division_res.csv\")"
   ]
  }
 ],
 "metadata": {
  "kernelspec": {
   "display_name": "Python 2",
   "language": "python",
   "name": "python2"
  },
  "language_info": {
   "codemirror_mode": {
    "name": "ipython",
    "version": 2
   },
   "file_extension": ".py",
   "mimetype": "text/x-python",
   "name": "python",
   "nbconvert_exporter": "python",
   "pygments_lexer": "ipython2",
   "version": "2.7.11"
  }
 },
 "nbformat": 4,
 "nbformat_minor": 0
}
